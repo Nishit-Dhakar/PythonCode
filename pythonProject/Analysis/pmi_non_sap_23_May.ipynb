{
 "cells": [
  {
   "cell_type": "code",
   "execution_count": 1,
   "metadata": {},
   "outputs": [
    {
     "name": "stdout",
     "output_type": "stream",
     "text": [
      "['.ipynb_checkpoints', 'L2L3.csv', 'L2L3.xlsx', 'Non SAP tickets.xlsx', 'NonSAP_Tkt.csv', 'pmi_non_sap_23_May.ipynb', 'test.csv', '~$L2L3.xlsx']\n"
     ]
    }
   ],
   "source": [
    "\"\"\"\n",
    "Reading files from the given java folder path\n",
    "\"\"\"\n",
    "\n",
    "import numpy as np # linear algebra\n",
    "import pandas as pd # data processing, CSV file I/O (e.g. pd.read_csv)\n",
    "\n",
    "import seaborn as sns\n",
    "import matplotlib.pyplot as plt\n",
    "%matplotlib inline\n",
    "\n",
    "\n",
    "from math import radians, sin, cos, acos\n",
    "from sklearn.model_selection import KFold\n",
    "from sklearn.model_selection import StratifiedShuffleSplit\n",
    "\n",
    "# Input data files are available in the \"../input/\" directory.\n",
    "# For example, running this (by clicking run or pressing Shift+Enter) will list the files in the input directory\n",
    "\n",
    "import os\n",
    "print(os.listdir(\"C:/Users/nishit_dhakar/Desktop/Python/\"))\n",
    "\n",
    "# Any results you write to the current directory are saved as output."
   ]
  },
  {
   "cell_type": "code",
   "execution_count": 2,
   "metadata": {},
   "outputs": [
    {
     "data": {
      "text/plain": [
       "(44975, 18)"
      ]
     },
     "execution_count": 2,
     "metadata": {},
     "output_type": "execute_result"
    }
   ],
   "source": [
    "\"\"\"\n",
    "Reading files from the given java folder path and using the encoding ISO-8859-1\n",
    "\"\"\"\n",
    "\n",
    "# Path of the file to read\n",
    "pmi_file_path = 'C:/Users/nishit_dhakar/Desktop/Python/L2L3.csv'\n",
    "#Read file from the csv\n",
    "pmi_df = pd.read_csv(pmi_file_path ,encoding = 'ISO-8859-1')\n",
    "pmi_df.shape"
   ]
  },
  {
   "cell_type": "code",
   "execution_count": 3,
   "metadata": {},
   "outputs": [],
   "source": [
    "\"\"\"\n",
    "Dropping of the un necessary columns. \n",
    "Finding the fields that were blank or dont have any data \n",
    "\"\"\"\n",
    "\n",
    "pmi_df.isna().sum()\n",
    "pmi_df=pmi_df.drop(['Urgency' ], axis=1)\n"
   ]
  },
  {
   "cell_type": "code",
   "execution_count": 4,
   "metadata": {},
   "outputs": [
    {
     "data": {
      "text/plain": [
       "ï»¿Number                0\n",
       "Short Description        0\n",
       "Service                  0\n",
       "Description              0\n",
       "Category                 0\n",
       "Impact                   0\n",
       "Assignment Group         1\n",
       "Close Code               5\n",
       "Close Notes             20\n",
       "Create Time              0\n",
       "Resolve Time             0\n",
       "L1                   44338\n",
       "Is L1.5                  0\n",
       "Other L1.5               0\n",
       "IS L2                    0\n",
       "Is L3                44975\n",
       "DAYS                     0\n",
       "dtype: int64"
      ]
     },
     "execution_count": 4,
     "metadata": {},
     "output_type": "execute_result"
    }
   ],
   "source": [
    "pmi_df.isna().sum()"
   ]
  },
  {
   "cell_type": "code",
   "execution_count": 5,
   "metadata": {},
   "outputs": [],
   "source": [
    "\"\"\"\n",
    "Cleanup of the field name to more short and relevent name\n",
    "\"\"\"\n",
    "\n",
    "pmi_df.rename(columns={'Number':'Number',\n",
    "                       'Short Description':'short_description',\n",
    "                          'Service':'service',\n",
    "                        'Issue id':'issueid',\n",
    "                           'Description' : 'description' ,\n",
    "                           'Category' : 'category' ,\n",
    "                       'Impact' : 'impact' ,\n",
    "                       'Priority' : 'priority' ,\n",
    "                       'Assignment Group' : 'assignment_group' ,\n",
    "                       'Close Code' : 'close_code' ,\n",
    "                       'Close Notes' : 'close_notes' ,\n",
    "                       'Create Time': 'create_time' ,\n",
    "                       'Resolve Time' : 'resolve_time' ,\n",
    "                       'SAP/Non-SAP' : 'applicationtype' \n",
    "                      },  \n",
    "                 inplace=True)"
   ]
  },
  {
   "cell_type": "code",
   "execution_count": 6,
   "metadata": {
    "scrolled": true
   },
   "outputs": [
    {
     "data": {
      "text/plain": [
       "array(['Solved (Permanently)', 'Not Solved (Unable)',\n",
       "       'Solved (Workaround)', 'Not Solved (Gone)', nan,\n",
       "       'Solved Remotely (Permanently)', 'Solved (By System)',\n",
       "       'Solved (By User)'], dtype=object)"
      ]
     },
     "execution_count": 6,
     "metadata": {},
     "output_type": "execute_result"
    }
   ],
   "source": [
    "pmi_df.close_code.unique()"
   ]
  },
  {
   "cell_type": "code",
   "execution_count": 23,
   "metadata": {},
   "outputs": [
    {
     "name": "stderr",
     "output_type": "stream",
     "text": [
      "[nltk_data] Downloading package punkt to\n",
      "[nltk_data]     C:\\Users\\nishit_dhakar\\AppData\\Roaming\\nltk_data...\n",
      "[nltk_data]   Package punkt is already up-to-date!\n"
     ]
    },
    {
     "ename": "TypeError",
     "evalue": "can only concatenate str (not \"float\") to str",
     "output_type": "error",
     "traceback": [
      "\u001b[1;31m---------------------------------------------------------------------------\u001b[0m",
      "\u001b[1;31mTypeError\u001b[0m                                 Traceback (most recent call last)",
      "\u001b[1;32m<ipython-input-23-ab7616cad239>\u001b[0m in \u001b[0;36m<module>\u001b[1;34m\u001b[0m\n\u001b[0;32m      8\u001b[0m \u001b[0mfinal_string\u001b[0m \u001b[1;33m=\u001b[0m \u001b[1;34m\"\"\u001b[0m\u001b[1;33m;\u001b[0m\u001b[1;33m\u001b[0m\u001b[1;33m\u001b[0m\u001b[0m\n\u001b[0;32m      9\u001b[0m \u001b[1;32mfor\u001b[0m \u001b[0mvalue\u001b[0m \u001b[1;32min\u001b[0m \u001b[0mr1\u001b[0m\u001b[1;33m:\u001b[0m\u001b[1;33m\u001b[0m\u001b[1;33m\u001b[0m\u001b[0m\n\u001b[1;32m---> 10\u001b[1;33m     \u001b[0mfinal_string\u001b[0m \u001b[1;33m=\u001b[0m \u001b[0mfinal_string\u001b[0m  \u001b[1;33m+\u001b[0m \u001b[0mvalue\u001b[0m \u001b[1;33m+\u001b[0m \u001b[1;34m\" \"\u001b[0m\u001b[1;33m;\u001b[0m\u001b[1;33m\u001b[0m\u001b[1;33m\u001b[0m\u001b[0m\n\u001b[0m",
      "\u001b[1;31mTypeError\u001b[0m: can only concatenate str (not \"float\") to str"
     ]
    }
   ],
   "source": [
    "from collections import Counter\n",
    "import nltk\n",
    "nltk.download('punkt')\n",
    "\n",
    "#r1 = pmi_df.short_description.values\n",
    "r1 = pmi_df.close_notes.values\n",
    "\n",
    "final_string = \"\";\n",
    "for value in r1:\n",
    "    final_string = final_string  + value + \" \";\n"
   ]
  },
  {
   "cell_type": "code",
   "execution_count": 7,
   "metadata": {},
   "outputs": [
    {
     "data": {
      "text/html": [
       "<div>\n",
       "<style scoped>\n",
       "    .dataframe tbody tr th:only-of-type {\n",
       "        vertical-align: middle;\n",
       "    }\n",
       "\n",
       "    .dataframe tbody tr th {\n",
       "        vertical-align: top;\n",
       "    }\n",
       "\n",
       "    .dataframe thead th {\n",
       "        text-align: right;\n",
       "    }\n",
       "</style>\n",
       "<table border=\"1\" class=\"dataframe\">\n",
       "  <thead>\n",
       "    <tr style=\"text-align: right;\">\n",
       "      <th></th>\n",
       "      <th>ï»¿Number</th>\n",
       "      <th>short_description</th>\n",
       "      <th>service</th>\n",
       "      <th>description</th>\n",
       "      <th>category</th>\n",
       "      <th>impact</th>\n",
       "      <th>assignment_group</th>\n",
       "      <th>close_code</th>\n",
       "      <th>close_notes</th>\n",
       "      <th>create_time</th>\n",
       "      <th>resolve_time</th>\n",
       "      <th>L1</th>\n",
       "      <th>Is L1.5</th>\n",
       "      <th>Other L1.5</th>\n",
       "      <th>IS L2</th>\n",
       "      <th>Is L3</th>\n",
       "      <th>DAYS</th>\n",
       "    </tr>\n",
       "  </thead>\n",
       "  <tbody>\n",
       "    <tr>\n",
       "      <th>0</th>\n",
       "      <td>SRQ#52301</td>\n",
       "      <td>Typo is MoveIT job QAS email notificaiton message</td>\n",
       "      <td>Quantum Treasury Application for PMI</td>\n",
       "      <td>It seems there is a typo in the email notifica...</td>\n",
       "      <td>Request for Information</td>\n",
       "      <td>None</td>\n",
       "      <td>ISDM Connectivity Services</td>\n",
       "      <td>Solved (Permanently)</td>\n",
       "      <td>Issue reported:Typo is MoveIT job QAS email no...</td>\n",
       "      <td>4/27/19 9:03</td>\n",
       "      <td>5/1/19 3:50</td>\n",
       "      <td>NaN</td>\n",
       "      <td>0</td>\n",
       "      <td>0</td>\n",
       "      <td>0</td>\n",
       "      <td>NaN</td>\n",
       "      <td>3.0</td>\n",
       "    </tr>\n",
       "    <tr>\n",
       "      <th>1</th>\n",
       "      <td>SRQ#103886</td>\n",
       "      <td>R27 SW_App : Flowingly- Can't Submit Third App...</td>\n",
       "      <td>Flowingly Application for PMI</td>\n",
       "      <td>Dear Team  Kindly help to Can't Submit Third A...</td>\n",
       "      <td>Request for Information</td>\n",
       "      <td>None</td>\n",
       "      <td>ISDM ZZZ Collaboration Flowingly</td>\n",
       "      <td>Solved (Permanently)</td>\n",
       "      <td>Who: Handayani, Wiwin What: Can't Submit Third...</td>\n",
       "      <td>4/29/19 11:11</td>\n",
       "      <td>5/1/19 5:34</td>\n",
       "      <td>NaN</td>\n",
       "      <td>0</td>\n",
       "      <td>0</td>\n",
       "      <td>0</td>\n",
       "      <td>NaN</td>\n",
       "      <td>3.0</td>\n",
       "    </tr>\n",
       "    <tr>\n",
       "      <th>2</th>\n",
       "      <td>SRQ#9943</td>\n",
       "      <td>Please suspend archive backup on OCL28</td>\n",
       "      <td>PLM Analytics Application for PMI</td>\n",
       "      <td>Please suspend archive backup on OCL28</td>\n",
       "      <td>Request for Change</td>\n",
       "      <td>None</td>\n",
       "      <td>GTS TIS Backup</td>\n",
       "      <td>Solved (Permanently)</td>\n",
       "      <td>Requested for: Please suspend archive backup o...</td>\n",
       "      <td>5/1/19 5:47</td>\n",
       "      <td>5/1/19 6:02</td>\n",
       "      <td>NaN</td>\n",
       "      <td>0</td>\n",
       "      <td>0</td>\n",
       "      <td>0</td>\n",
       "      <td>NaN</td>\n",
       "      <td>1.0</td>\n",
       "    </tr>\n",
       "    <tr>\n",
       "      <th>3</th>\n",
       "      <td>SRQ#49394</td>\n",
       "      <td>[FT] R23 SW_App : Flowingly- Slow Respond when...</td>\n",
       "      <td>Flowingly Application for PMI</td>\n",
       "      <td>Dear Team  Kindly help to SW_App : Flowingly- ...</td>\n",
       "      <td>Incident</td>\n",
       "      <td>Low</td>\n",
       "      <td>ISDM ZZZ Collaboration Flowingly Project</td>\n",
       "      <td>Solved (Permanently)</td>\n",
       "      <td>Who: Tresno, Mariani Budi What: Slow Respond w...</td>\n",
       "      <td>4/23/19 11:29</td>\n",
       "      <td>5/1/19 6:16</td>\n",
       "      <td>NaN</td>\n",
       "      <td>0</td>\n",
       "      <td>0</td>\n",
       "      <td>0</td>\n",
       "      <td>NaN</td>\n",
       "      <td>7.0</td>\n",
       "    </tr>\n",
       "    <tr>\n",
       "      <th>4</th>\n",
       "      <td>SRQ#143570</td>\n",
       "      <td>user can not print in isms printer</td>\n",
       "      <td>iSMS Application for PMIL</td>\n",
       "      <td>user can not print in isms printer</td>\n",
       "      <td>Request for Change</td>\n",
       "      <td>None</td>\n",
       "      <td>PM Israel Service Desk</td>\n",
       "      <td>Solved (Permanently)</td>\n",
       "      <td>user can not print in isms printer - i have ch...</td>\n",
       "      <td>5/1/19 7:24</td>\n",
       "      <td>5/1/19 7:24</td>\n",
       "      <td>NaN</td>\n",
       "      <td>0</td>\n",
       "      <td>0</td>\n",
       "      <td>0</td>\n",
       "      <td>NaN</td>\n",
       "      <td>1.0</td>\n",
       "    </tr>\n",
       "  </tbody>\n",
       "</table>\n",
       "</div>"
      ],
      "text/plain": [
       "    ï»¿Number                                  short_description  \\\n",
       "0   SRQ#52301  Typo is MoveIT job QAS email notificaiton message   \n",
       "1  SRQ#103886  R27 SW_App : Flowingly- Can't Submit Third App...   \n",
       "2    SRQ#9943             Please suspend archive backup on OCL28   \n",
       "3   SRQ#49394  [FT] R23 SW_App : Flowingly- Slow Respond when...   \n",
       "4  SRQ#143570                 user can not print in isms printer   \n",
       "\n",
       "                                service  \\\n",
       "0  Quantum Treasury Application for PMI   \n",
       "1         Flowingly Application for PMI   \n",
       "2     PLM Analytics Application for PMI   \n",
       "3         Flowingly Application for PMI   \n",
       "4             iSMS Application for PMIL   \n",
       "\n",
       "                                         description                 category  \\\n",
       "0  It seems there is a typo in the email notifica...  Request for Information   \n",
       "1  Dear Team  Kindly help to Can't Submit Third A...  Request for Information   \n",
       "2             Please suspend archive backup on OCL28       Request for Change   \n",
       "3  Dear Team  Kindly help to SW_App : Flowingly- ...                 Incident   \n",
       "4                 user can not print in isms printer       Request for Change   \n",
       "\n",
       "  impact                          assignment_group            close_code  \\\n",
       "0   None                ISDM Connectivity Services  Solved (Permanently)   \n",
       "1   None          ISDM ZZZ Collaboration Flowingly  Solved (Permanently)   \n",
       "2   None                            GTS TIS Backup  Solved (Permanently)   \n",
       "3    Low  ISDM ZZZ Collaboration Flowingly Project  Solved (Permanently)   \n",
       "4   None                    PM Israel Service Desk  Solved (Permanently)   \n",
       "\n",
       "                                         close_notes    create_time  \\\n",
       "0  Issue reported:Typo is MoveIT job QAS email no...   4/27/19 9:03   \n",
       "1  Who: Handayani, Wiwin What: Can't Submit Third...  4/29/19 11:11   \n",
       "2  Requested for: Please suspend archive backup o...    5/1/19 5:47   \n",
       "3  Who: Tresno, Mariani Budi What: Slow Respond w...  4/23/19 11:29   \n",
       "4  user can not print in isms printer - i have ch...    5/1/19 7:24   \n",
       "\n",
       "  resolve_time  L1  Is L1.5  Other L1.5  IS L2  Is L3  DAYS  \n",
       "0  5/1/19 3:50 NaN        0           0      0    NaN   3.0  \n",
       "1  5/1/19 5:34 NaN        0           0      0    NaN   3.0  \n",
       "2  5/1/19 6:02 NaN        0           0      0    NaN   1.0  \n",
       "3  5/1/19 6:16 NaN        0           0      0    NaN   7.0  \n",
       "4  5/1/19 7:24 NaN        0           0      0    NaN   1.0  "
      ]
     },
     "execution_count": 7,
     "metadata": {},
     "output_type": "execute_result"
    }
   ],
   "source": [
    "pmi_df.head()"
   ]
  },
  {
   "cell_type": "code",
   "execution_count": 8,
   "metadata": {},
   "outputs": [
    {
     "name": "stderr",
     "output_type": "stream",
     "text": [
      "C:\\Users\\nishit_dhakar\\Anaconda3\\lib\\site-packages\\ipykernel_launcher.py:5: UserWarning: Pandas doesn't allow columns to be created via a new attribute name - see https://pandas.pydata.org/pandas-docs/stable/indexing.html#attribute-access\n",
      "  \"\"\"\n",
      "C:\\Users\\nishit_dhakar\\Anaconda3\\lib\\site-packages\\ipykernel_launcher.py:6: UserWarning: Pandas doesn't allow columns to be created via a new attribute name - see https://pandas.pydata.org/pandas-docs/stable/indexing.html#attribute-access\n",
      "  \n"
     ]
    }
   ],
   "source": [
    "\"\"\"\n",
    "modifying the date format to more usable format\n",
    "\"\"\"\n",
    "\n",
    "pmi_df.created_date = pd.to_datetime(pmi_df.create_time)\n",
    "pmi_df.resolved_date = pd.to_datetime(pmi_df.resolve_time)\n",
    "\n",
    "pmi_df[\"ticketcreatehour\"]=pmi_df.created_date.dt.hour\n",
    "pmi_df[\"ticketcreatemonth\"]=pmi_df.created_date.dt.month\n",
    "pmi_df[\"ticketcreateday\"]=pmi_df.created_date.dt.day\n",
    "pmi_df[\"ticketcreateyear\"]=pmi_df.created_date.dt.year\n",
    "pmi_df[\"ticketcreateweekday\"] = pmi_df.created_date.dt.weekday\n",
    "\n",
    "pmi_df['ticket_solving_duration'] = ((pmi_df.resolved_date  - pmi_df.created_date))/np.timedelta64(1,'h')"
   ]
  },
  {
   "cell_type": "code",
   "execution_count": 9,
   "metadata": {},
   "outputs": [
    {
     "data": {
      "text/plain": [
       "<matplotlib.axes._subplots.AxesSubplot at 0x1fb9034ae88>"
      ]
     },
     "execution_count": 9,
     "metadata": {},
     "output_type": "execute_result"
    },
    {
     "data": {
      "image/png": "[encoded data removed]",
      "text/plain": [
       "<Figure size 720x720 with 1 Axes>"
      ]
     },
     "metadata": {
      "needs_background": "light"
     },
     "output_type": "display_data"
    }
   ],
   "source": [
    "\"\"\"\n",
    "Identifying the pattern of request generation pattern\n",
    "\"\"\"\n",
    "pmi_df.created_date.hist(bins=100,figsize=(10,10))"
   ]
  },
  {
   "cell_type": "code",
   "execution_count": 10,
   "metadata": {},
   "outputs": [
    {
     "data": {
      "text/plain": [
       "<matplotlib.axes._subplots.AxesSubplot at 0x1fb90766988>"
      ]
     },
     "execution_count": 10,
     "metadata": {},
     "output_type": "execute_result"
    },
    {
     "data": {
      "image/png": "[encoded data removed]",
      "text/plain": [
       "<Figure size 432x288 with 1 Axes>"
      ]
     },
     "metadata": {
      "needs_background": "light"
     },
     "output_type": "display_data"
    }
   ],
   "source": [
    "import seaborn as sns\n",
    "\n",
    "sns.distplot(pmi_df.ticketcreatehour)\n"
   ]
  },
  {
   "cell_type": "code",
   "execution_count": 11,
   "metadata": {},
   "outputs": [
    {
     "data": {
      "text/plain": [
       "<matplotlib.axes._subplots.AxesSubplot at 0x1fb90605408>"
      ]
     },
     "execution_count": 11,
     "metadata": {},
     "output_type": "execute_result"
    },
    {
     "data": {
      "image/png": "[encoded data removed]",
      "text/plain": [
       "<Figure size 432x288 with 1 Axes>"
      ]
     },
     "metadata": {
      "needs_background": "light"
     },
     "output_type": "display_data"
    }
   ],
   "source": [
    "sns.distplot(pmi_df.ticketcreateweekday)"
   ]
  },
  {
   "cell_type": "code",
   "execution_count": 12,
   "metadata": {},
   "outputs": [
    {
     "data": {
      "text/plain": [
       "<matplotlib.axes._subplots.AxesSubplot at 0x1fb90743dc8>"
      ]
     },
     "execution_count": 12,
     "metadata": {},
     "output_type": "execute_result"
    },
    {
     "data": {
      "image/png": "[encoded data removed]",
      "text/plain": [
       "<Figure size 432x288 with 1 Axes>"
      ]
     },
     "metadata": {
      "needs_background": "light"
     },
     "output_type": "display_data"
    }
   ],
   "source": [
    "\n",
    "sns.distplot(pmi_df.ticketcreateday)"
   ]
  },
  {
   "cell_type": "code",
   "execution_count": 13,
   "metadata": {},
   "outputs": [
    {
     "data": {
      "text/plain": [
       "array(['Request for Information', 'Request for Change', 'Incident',\n",
       "       'Complaint'], dtype=object)"
      ]
     },
     "execution_count": 13,
     "metadata": {},
     "output_type": "execute_result"
    }
   ],
   "source": [
    "pmi_df.category.unique()"
   ]
  },
  {
   "cell_type": "code",
   "execution_count": 14,
   "metadata": {},
   "outputs": [],
   "source": [
    "pmi_df_dervived=pmi_df[pmi_df.ticket_solving_duration < 500]\n",
    "\n",
    "pmi_boxplot_rfc=pmi_df_dervived[\n",
    "            pmi_df_dervived.service.isin(['iSMS','LES/MES','OMSP','Quantum Treasury','iSMS EZD','PLM']) & \n",
    "                           pmi_df_dervived.category.isin(['Request for Change']) ]\n",
    "pmi_boxplot_incident=pmi_df_dervived[\n",
    "            pmi_df_dervived.service.isin(['iSMS','LES/MES','OMSP','Quantum Treasury','iSMS EZD','PLM']) & \n",
    "                           pmi_df_dervived.category.isin(['Incident']) ]\n",
    "pmi_boxplot_rfi=pmi_df_dervived[\n",
    "            pmi_df_dervived.service.isin(['iSMS','LES/MES','OMSP','Quantum Treasury','iSMS EZD','PLM']) & \n",
    "                           pmi_df_dervived.category.isin(['Request for Information']) ]"
   ]
  },
  {
   "cell_type": "code",
   "execution_count": 15,
   "metadata": {},
   "outputs": [
    {
     "name": "stderr",
     "output_type": "stream",
     "text": [
      "C:\\Users\\nishit_dhakar\\AppData\\Roaming\\Python\\Python37\\site-packages\\seaborn\\distributions.py:198: RuntimeWarning: Mean of empty slice.\n",
      "  line, = ax.plot(a.mean(), 0)\n",
      "C:\\Users\\nishit_dhakar\\AppData\\Roaming\\Python\\Python37\\site-packages\\numpy\\core\\_methods.py:161: RuntimeWarning: invalid value encountered in double_scalars\n",
      "  ret = ret.dtype.type(ret / rcount)\n",
      "C:\\Users\\nishit_dhakar\\AppData\\Roaming\\Python\\Python37\\site-packages\\numpy\\lib\\histograms.py:908: RuntimeWarning: invalid value encountered in true_divide\n",
      "  return n/db/n.sum(), bin_edges\n"
     ]
    },
    {
     "data": {
      "text/plain": [
       "<matplotlib.axes._subplots.AxesSubplot at 0x1fb910386c8>"
      ]
     },
     "execution_count": 15,
     "metadata": {},
     "output_type": "execute_result"
    },
    {
     "data": {
      "image/png": "[encoded data removed]",
      "text/plain": [
       "<Figure size 432x288 with 1 Axes>"
      ]
     },
     "metadata": {
      "needs_background": "light"
     },
     "output_type": "display_data"
    }
   ],
   "source": [
    "sns.distplot(pmi_df[pmi_df.service=='iSMS'].ticket_solving_duration)"
   ]
  },
  {
   "cell_type": "code",
   "execution_count": 16,
   "metadata": {},
   "outputs": [
    {
     "ename": "ValueError",
     "evalue": "Buffer has wrong number of dimensions (expected 1, got 2)",
     "output_type": "error",
     "traceback": [
      "\u001b[1;31m---------------------------------------------------------------------------\u001b[0m",
      "\u001b[1;31mAttributeError\u001b[0m                            Traceback (most recent call last)",
      "\u001b[1;32m~\\AppData\\Roaming\\Python\\Python37\\site-packages\\seaborn\\utils.py\u001b[0m in \u001b[0;36mcategorical_order\u001b[1;34m(values, order)\u001b[0m\n\u001b[0;32m    543\u001b[0m             \u001b[1;32mtry\u001b[0m\u001b[1;33m:\u001b[0m\u001b[1;33m\u001b[0m\u001b[1;33m\u001b[0m\u001b[0m\n\u001b[1;32m--> 544\u001b[1;33m                 \u001b[0morder\u001b[0m \u001b[1;33m=\u001b[0m \u001b[0mvalues\u001b[0m\u001b[1;33m.\u001b[0m\u001b[0mcat\u001b[0m\u001b[1;33m.\u001b[0m\u001b[0mcategories\u001b[0m\u001b[1;33m\u001b[0m\u001b[1;33m\u001b[0m\u001b[0m\n\u001b[0m\u001b[0;32m    545\u001b[0m             \u001b[1;32mexcept\u001b[0m \u001b[1;33m(\u001b[0m\u001b[0mTypeError\u001b[0m\u001b[1;33m,\u001b[0m \u001b[0mAttributeError\u001b[0m\u001b[1;33m)\u001b[0m\u001b[1;33m:\u001b[0m\u001b[1;33m\u001b[0m\u001b[1;33m\u001b[0m\u001b[0m\n",
      "\u001b[1;32m~\\AppData\\Roaming\\Python\\Python37\\site-packages\\pandas\\core\\generic.py\u001b[0m in \u001b[0;36m__getattr__\u001b[1;34m(self, name)\u001b[0m\n\u001b[0;32m   5273\u001b[0m                 \u001b[1;32mreturn\u001b[0m \u001b[0mself\u001b[0m\u001b[1;33m[\u001b[0m\u001b[0mname\u001b[0m\u001b[1;33m]\u001b[0m\u001b[1;33m\u001b[0m\u001b[1;33m\u001b[0m\u001b[0m\n\u001b[1;32m-> 5274\u001b[1;33m             \u001b[1;32mreturn\u001b[0m \u001b[0mobject\u001b[0m\u001b[1;33m.\u001b[0m\u001b[0m__getattribute__\u001b[0m\u001b[1;33m(\u001b[0m\u001b[0mself\u001b[0m\u001b[1;33m,\u001b[0m \u001b[0mname\u001b[0m\u001b[1;33m)\u001b[0m\u001b[1;33m\u001b[0m\u001b[1;33m\u001b[0m\u001b[0m\n\u001b[0m\u001b[0;32m   5275\u001b[0m \u001b[1;33m\u001b[0m\u001b[0m\n",
      "\u001b[1;31mAttributeError\u001b[0m: 'DataFrame' object has no attribute 'cat'",
      "\nDuring handling of the above exception, another exception occurred:\n",
      "\u001b[1;31mAttributeError\u001b[0m                            Traceback (most recent call last)",
      "\u001b[1;32m~\\AppData\\Roaming\\Python\\Python37\\site-packages\\seaborn\\utils.py\u001b[0m in \u001b[0;36mcategorical_order\u001b[1;34m(values, order)\u001b[0m\n\u001b[0;32m    546\u001b[0m                 \u001b[1;32mtry\u001b[0m\u001b[1;33m:\u001b[0m\u001b[1;33m\u001b[0m\u001b[1;33m\u001b[0m\u001b[0m\n\u001b[1;32m--> 547\u001b[1;33m                     \u001b[0morder\u001b[0m \u001b[1;33m=\u001b[0m \u001b[0mvalues\u001b[0m\u001b[1;33m.\u001b[0m\u001b[0munique\u001b[0m\u001b[1;33m(\u001b[0m\u001b[1;33m)\u001b[0m\u001b[1;33m\u001b[0m\u001b[1;33m\u001b[0m\u001b[0m\n\u001b[0m\u001b[0;32m    548\u001b[0m                 \u001b[1;32mexcept\u001b[0m \u001b[0mAttributeError\u001b[0m\u001b[1;33m:\u001b[0m\u001b[1;33m\u001b[0m\u001b[1;33m\u001b[0m\u001b[0m\n",
      "\u001b[1;32m~\\AppData\\Roaming\\Python\\Python37\\site-packages\\pandas\\core\\generic.py\u001b[0m in \u001b[0;36m__getattr__\u001b[1;34m(self, name)\u001b[0m\n\u001b[0;32m   5273\u001b[0m                 \u001b[1;32mreturn\u001b[0m \u001b[0mself\u001b[0m\u001b[1;33m[\u001b[0m\u001b[0mname\u001b[0m\u001b[1;33m]\u001b[0m\u001b[1;33m\u001b[0m\u001b[1;33m\u001b[0m\u001b[0m\n\u001b[1;32m-> 5274\u001b[1;33m             \u001b[1;32mreturn\u001b[0m \u001b[0mobject\u001b[0m\u001b[1;33m.\u001b[0m\u001b[0m__getattribute__\u001b[0m\u001b[1;33m(\u001b[0m\u001b[0mself\u001b[0m\u001b[1;33m,\u001b[0m \u001b[0mname\u001b[0m\u001b[1;33m)\u001b[0m\u001b[1;33m\u001b[0m\u001b[1;33m\u001b[0m\u001b[0m\n\u001b[0m\u001b[0;32m   5275\u001b[0m \u001b[1;33m\u001b[0m\u001b[0m\n",
      "\u001b[1;31mAttributeError\u001b[0m: 'DataFrame' object has no attribute 'unique'",
      "\nDuring handling of the above exception, another exception occurred:\n",
      "\u001b[1;31mValueError\u001b[0m                                Traceback (most recent call last)",
      "\u001b[1;32m<ipython-input-16-d47c639376cc>\u001b[0m in \u001b[0;36m<module>\u001b[1;34m\u001b[0m\n\u001b[0;32m      1\u001b[0m \u001b[0msns\u001b[0m\u001b[1;33m.\u001b[0m\u001b[0mset\u001b[0m\u001b[1;33m(\u001b[0m\u001b[0mstyle\u001b[0m\u001b[1;33m=\u001b[0m\u001b[1;34m\"whitegrid\"\u001b[0m\u001b[1;33m)\u001b[0m\u001b[1;33m\u001b[0m\u001b[1;33m\u001b[0m\u001b[0m\n\u001b[1;32m----> 2\u001b[1;33m \u001b[0msns\u001b[0m\u001b[1;33m.\u001b[0m\u001b[0mboxplot\u001b[0m\u001b[1;33m(\u001b[0m\u001b[0mx\u001b[0m\u001b[1;33m=\u001b[0m\u001b[0mpmi_boxplot_rfc\u001b[0m\u001b[1;33m.\u001b[0m\u001b[0mservice\u001b[0m\u001b[1;33m,\u001b[0m\u001b[0my\u001b[0m \u001b[1;33m=\u001b[0m \u001b[0mpmi_boxplot_rfc\u001b[0m\u001b[1;33m.\u001b[0m\u001b[0mticket_solving_duration\u001b[0m\u001b[1;33m,\u001b[0m\u001b[0mdata\u001b[0m \u001b[1;33m=\u001b[0m \u001b[0mpmi_boxplot_rfc\u001b[0m\u001b[1;33m)\u001b[0m\u001b[1;33m\u001b[0m\u001b[1;33m\u001b[0m\u001b[0m\n\u001b[0m",
      "\u001b[1;32m~\\AppData\\Roaming\\Python\\Python37\\site-packages\\seaborn\\categorical.py\u001b[0m in \u001b[0;36mboxplot\u001b[1;34m(x, y, hue, data, order, hue_order, orient, color, palette, saturation, width, dodge, fliersize, linewidth, whis, ax, **kwargs)\u001b[0m\n\u001b[0;32m   2233\u001b[0m     plotter = _BoxPlotter(x, y, hue, data, order, hue_order,\n\u001b[0;32m   2234\u001b[0m                           \u001b[0morient\u001b[0m\u001b[1;33m,\u001b[0m \u001b[0mcolor\u001b[0m\u001b[1;33m,\u001b[0m \u001b[0mpalette\u001b[0m\u001b[1;33m,\u001b[0m \u001b[0msaturation\u001b[0m\u001b[1;33m,\u001b[0m\u001b[1;33m\u001b[0m\u001b[1;33m\u001b[0m\u001b[0m\n\u001b[1;32m-> 2235\u001b[1;33m                           width, dodge, fliersize, linewidth)\n\u001b[0m\u001b[0;32m   2236\u001b[0m \u001b[1;33m\u001b[0m\u001b[0m\n\u001b[0;32m   2237\u001b[0m     \u001b[1;32mif\u001b[0m \u001b[0max\u001b[0m \u001b[1;32mis\u001b[0m \u001b[1;32mNone\u001b[0m\u001b[1;33m:\u001b[0m\u001b[1;33m\u001b[0m\u001b[1;33m\u001b[0m\u001b[0m\n",
      "\u001b[1;32m~\\AppData\\Roaming\\Python\\Python37\\site-packages\\seaborn\\categorical.py\u001b[0m in \u001b[0;36m__init__\u001b[1;34m(self, x, y, hue, data, order, hue_order, orient, color, palette, saturation, width, dodge, fliersize, linewidth)\u001b[0m\n\u001b[0;32m    434\u001b[0m                  width, dodge, fliersize, linewidth):\n\u001b[0;32m    435\u001b[0m \u001b[1;33m\u001b[0m\u001b[0m\n\u001b[1;32m--> 436\u001b[1;33m         \u001b[0mself\u001b[0m\u001b[1;33m.\u001b[0m\u001b[0mestablish_variables\u001b[0m\u001b[1;33m(\u001b[0m\u001b[0mx\u001b[0m\u001b[1;33m,\u001b[0m \u001b[0my\u001b[0m\u001b[1;33m,\u001b[0m \u001b[0mhue\u001b[0m\u001b[1;33m,\u001b[0m \u001b[0mdata\u001b[0m\u001b[1;33m,\u001b[0m \u001b[0morient\u001b[0m\u001b[1;33m,\u001b[0m \u001b[0morder\u001b[0m\u001b[1;33m,\u001b[0m \u001b[0mhue_order\u001b[0m\u001b[1;33m)\u001b[0m\u001b[1;33m\u001b[0m\u001b[1;33m\u001b[0m\u001b[0m\n\u001b[0m\u001b[0;32m    437\u001b[0m         \u001b[0mself\u001b[0m\u001b[1;33m.\u001b[0m\u001b[0mestablish_colors\u001b[0m\u001b[1;33m(\u001b[0m\u001b[0mcolor\u001b[0m\u001b[1;33m,\u001b[0m \u001b[0mpalette\u001b[0m\u001b[1;33m,\u001b[0m \u001b[0msaturation\u001b[0m\u001b[1;33m)\u001b[0m\u001b[1;33m\u001b[0m\u001b[1;33m\u001b[0m\u001b[0m\n\u001b[0;32m    438\u001b[0m \u001b[1;33m\u001b[0m\u001b[0m\n",
      "\u001b[1;32m~\\AppData\\Roaming\\Python\\Python37\\site-packages\\seaborn\\categorical.py\u001b[0m in \u001b[0;36mestablish_variables\u001b[1;34m(self, x, y, hue, data, orient, order, hue_order, units)\u001b[0m\n\u001b[0;32m    198\u001b[0m \u001b[1;33m\u001b[0m\u001b[0m\n\u001b[0;32m    199\u001b[0m                 \u001b[1;31m# Get the order on the categorical axis\u001b[0m\u001b[1;33m\u001b[0m\u001b[1;33m\u001b[0m\u001b[1;33m\u001b[0m\u001b[0m\n\u001b[1;32m--> 200\u001b[1;33m                 \u001b[0mgroup_names\u001b[0m \u001b[1;33m=\u001b[0m \u001b[0mcategorical_order\u001b[0m\u001b[1;33m(\u001b[0m\u001b[0mgroups\u001b[0m\u001b[1;33m,\u001b[0m \u001b[0morder\u001b[0m\u001b[1;33m)\u001b[0m\u001b[1;33m\u001b[0m\u001b[1;33m\u001b[0m\u001b[0m\n\u001b[0m\u001b[0;32m    201\u001b[0m \u001b[1;33m\u001b[0m\u001b[0m\n\u001b[0;32m    202\u001b[0m                 \u001b[1;31m# Group the numeric data\u001b[0m\u001b[1;33m\u001b[0m\u001b[1;33m\u001b[0m\u001b[1;33m\u001b[0m\u001b[0m\n",
      "\u001b[1;32m~\\AppData\\Roaming\\Python\\Python37\\site-packages\\seaborn\\utils.py\u001b[0m in \u001b[0;36mcategorical_order\u001b[1;34m(values, order)\u001b[0m\n\u001b[0;32m    547\u001b[0m                     \u001b[0morder\u001b[0m \u001b[1;33m=\u001b[0m \u001b[0mvalues\u001b[0m\u001b[1;33m.\u001b[0m\u001b[0munique\u001b[0m\u001b[1;33m(\u001b[0m\u001b[1;33m)\u001b[0m\u001b[1;33m\u001b[0m\u001b[1;33m\u001b[0m\u001b[0m\n\u001b[0;32m    548\u001b[0m                 \u001b[1;32mexcept\u001b[0m \u001b[0mAttributeError\u001b[0m\u001b[1;33m:\u001b[0m\u001b[1;33m\u001b[0m\u001b[1;33m\u001b[0m\u001b[0m\n\u001b[1;32m--> 549\u001b[1;33m                     \u001b[0morder\u001b[0m \u001b[1;33m=\u001b[0m \u001b[0mpd\u001b[0m\u001b[1;33m.\u001b[0m\u001b[0munique\u001b[0m\u001b[1;33m(\u001b[0m\u001b[0mvalues\u001b[0m\u001b[1;33m)\u001b[0m\u001b[1;33m\u001b[0m\u001b[1;33m\u001b[0m\u001b[0m\n\u001b[0m\u001b[0;32m    550\u001b[0m                 \u001b[1;32mtry\u001b[0m\u001b[1;33m:\u001b[0m\u001b[1;33m\u001b[0m\u001b[1;33m\u001b[0m\u001b[0m\n\u001b[0;32m    551\u001b[0m                     \u001b[0mnp\u001b[0m\u001b[1;33m.\u001b[0m\u001b[0masarray\u001b[0m\u001b[1;33m(\u001b[0m\u001b[0mvalues\u001b[0m\u001b[1;33m)\u001b[0m\u001b[1;33m.\u001b[0m\u001b[0mastype\u001b[0m\u001b[1;33m(\u001b[0m\u001b[0mnp\u001b[0m\u001b[1;33m.\u001b[0m\u001b[0mfloat\u001b[0m\u001b[1;33m)\u001b[0m\u001b[1;33m\u001b[0m\u001b[1;33m\u001b[0m\u001b[0m\n",
      "\u001b[1;32m~\\AppData\\Roaming\\Python\\Python37\\site-packages\\pandas\\core\\algorithms.py\u001b[0m in \u001b[0;36munique\u001b[1;34m(values)\u001b[0m\n\u001b[0;32m    380\u001b[0m \u001b[1;33m\u001b[0m\u001b[0m\n\u001b[0;32m    381\u001b[0m     \u001b[0mtable\u001b[0m \u001b[1;33m=\u001b[0m \u001b[0mhtable\u001b[0m\u001b[1;33m(\u001b[0m\u001b[0mlen\u001b[0m\u001b[1;33m(\u001b[0m\u001b[0mvalues\u001b[0m\u001b[1;33m)\u001b[0m\u001b[1;33m)\u001b[0m\u001b[1;33m\u001b[0m\u001b[1;33m\u001b[0m\u001b[0m\n\u001b[1;32m--> 382\u001b[1;33m     \u001b[0muniques\u001b[0m \u001b[1;33m=\u001b[0m \u001b[0mtable\u001b[0m\u001b[1;33m.\u001b[0m\u001b[0munique\u001b[0m\u001b[1;33m(\u001b[0m\u001b[0mvalues\u001b[0m\u001b[1;33m)\u001b[0m\u001b[1;33m\u001b[0m\u001b[1;33m\u001b[0m\u001b[0m\n\u001b[0m\u001b[0;32m    383\u001b[0m     \u001b[0muniques\u001b[0m \u001b[1;33m=\u001b[0m \u001b[0m_reconstruct_data\u001b[0m\u001b[1;33m(\u001b[0m\u001b[0muniques\u001b[0m\u001b[1;33m,\u001b[0m \u001b[0moriginal\u001b[0m\u001b[1;33m.\u001b[0m\u001b[0mdtype\u001b[0m\u001b[1;33m,\u001b[0m \u001b[0moriginal\u001b[0m\u001b[1;33m)\u001b[0m\u001b[1;33m\u001b[0m\u001b[1;33m\u001b[0m\u001b[0m\n\u001b[0;32m    384\u001b[0m     \u001b[1;32mreturn\u001b[0m \u001b[0muniques\u001b[0m\u001b[1;33m\u001b[0m\u001b[1;33m\u001b[0m\u001b[0m\n",
      "\u001b[1;32mpandas\\_libs\\hashtable_class_helper.pxi\u001b[0m in \u001b[0;36mpandas._libs.hashtable.Float64HashTable.unique\u001b[1;34m()\u001b[0m\n",
      "\u001b[1;31mValueError\u001b[0m: Buffer has wrong number of dimensions (expected 1, got 2)"
     ]
    }
   ],
   "source": [
    "#sns.set(style=\"whitegrid\")\n",
    "sns.boxplot(x=pmi_boxplot_rfc.service,y = pmi_boxplot_rfc.ticket_solving_duration,data = pmi_boxplot_rfc)"
   ]
  },
  {
   "cell_type": "code",
   "execution_count": 17,
   "metadata": {},
   "outputs": [
    {
     "ename": "ValueError",
     "evalue": "Buffer has wrong number of dimensions (expected 1, got 2)",
     "output_type": "error",
     "traceback": [
      "\u001b[1;31m---------------------------------------------------------------------------\u001b[0m",
      "\u001b[1;31mAttributeError\u001b[0m                            Traceback (most recent call last)",
      "\u001b[1;32m~\\AppData\\Roaming\\Python\\Python37\\site-packages\\seaborn\\utils.py\u001b[0m in \u001b[0;36mcategorical_order\u001b[1;34m(values, order)\u001b[0m\n\u001b[0;32m    543\u001b[0m             \u001b[1;32mtry\u001b[0m\u001b[1;33m:\u001b[0m\u001b[1;33m\u001b[0m\u001b[1;33m\u001b[0m\u001b[0m\n\u001b[1;32m--> 544\u001b[1;33m                 \u001b[0morder\u001b[0m \u001b[1;33m=\u001b[0m \u001b[0mvalues\u001b[0m\u001b[1;33m.\u001b[0m\u001b[0mcat\u001b[0m\u001b[1;33m.\u001b[0m\u001b[0mcategories\u001b[0m\u001b[1;33m\u001b[0m\u001b[1;33m\u001b[0m\u001b[0m\n\u001b[0m\u001b[0;32m    545\u001b[0m             \u001b[1;32mexcept\u001b[0m \u001b[1;33m(\u001b[0m\u001b[0mTypeError\u001b[0m\u001b[1;33m,\u001b[0m \u001b[0mAttributeError\u001b[0m\u001b[1;33m)\u001b[0m\u001b[1;33m:\u001b[0m\u001b[1;33m\u001b[0m\u001b[1;33m\u001b[0m\u001b[0m\n",
      "\u001b[1;32m~\\AppData\\Roaming\\Python\\Python37\\site-packages\\pandas\\core\\generic.py\u001b[0m in \u001b[0;36m__getattr__\u001b[1;34m(self, name)\u001b[0m\n\u001b[0;32m   5273\u001b[0m                 \u001b[1;32mreturn\u001b[0m \u001b[0mself\u001b[0m\u001b[1;33m[\u001b[0m\u001b[0mname\u001b[0m\u001b[1;33m]\u001b[0m\u001b[1;33m\u001b[0m\u001b[1;33m\u001b[0m\u001b[0m\n\u001b[1;32m-> 5274\u001b[1;33m             \u001b[1;32mreturn\u001b[0m \u001b[0mobject\u001b[0m\u001b[1;33m.\u001b[0m\u001b[0m__getattribute__\u001b[0m\u001b[1;33m(\u001b[0m\u001b[0mself\u001b[0m\u001b[1;33m,\u001b[0m \u001b[0mname\u001b[0m\u001b[1;33m)\u001b[0m\u001b[1;33m\u001b[0m\u001b[1;33m\u001b[0m\u001b[0m\n\u001b[0m\u001b[0;32m   5275\u001b[0m \u001b[1;33m\u001b[0m\u001b[0m\n",
      "\u001b[1;31mAttributeError\u001b[0m: 'DataFrame' object has no attribute 'cat'",
      "\nDuring handling of the above exception, another exception occurred:\n",
      "\u001b[1;31mAttributeError\u001b[0m                            Traceback (most recent call last)",
      "\u001b[1;32m~\\AppData\\Roaming\\Python\\Python37\\site-packages\\seaborn\\utils.py\u001b[0m in \u001b[0;36mcategorical_order\u001b[1;34m(values, order)\u001b[0m\n\u001b[0;32m    546\u001b[0m                 \u001b[1;32mtry\u001b[0m\u001b[1;33m:\u001b[0m\u001b[1;33m\u001b[0m\u001b[1;33m\u001b[0m\u001b[0m\n\u001b[1;32m--> 547\u001b[1;33m                     \u001b[0morder\u001b[0m \u001b[1;33m=\u001b[0m \u001b[0mvalues\u001b[0m\u001b[1;33m.\u001b[0m\u001b[0munique\u001b[0m\u001b[1;33m(\u001b[0m\u001b[1;33m)\u001b[0m\u001b[1;33m\u001b[0m\u001b[1;33m\u001b[0m\u001b[0m\n\u001b[0m\u001b[0;32m    548\u001b[0m                 \u001b[1;32mexcept\u001b[0m \u001b[0mAttributeError\u001b[0m\u001b[1;33m:\u001b[0m\u001b[1;33m\u001b[0m\u001b[1;33m\u001b[0m\u001b[0m\n",
      "\u001b[1;32m~\\AppData\\Roaming\\Python\\Python37\\site-packages\\pandas\\core\\generic.py\u001b[0m in \u001b[0;36m__getattr__\u001b[1;34m(self, name)\u001b[0m\n\u001b[0;32m   5273\u001b[0m                 \u001b[1;32mreturn\u001b[0m \u001b[0mself\u001b[0m\u001b[1;33m[\u001b[0m\u001b[0mname\u001b[0m\u001b[1;33m]\u001b[0m\u001b[1;33m\u001b[0m\u001b[1;33m\u001b[0m\u001b[0m\n\u001b[1;32m-> 5274\u001b[1;33m             \u001b[1;32mreturn\u001b[0m \u001b[0mobject\u001b[0m\u001b[1;33m.\u001b[0m\u001b[0m__getattribute__\u001b[0m\u001b[1;33m(\u001b[0m\u001b[0mself\u001b[0m\u001b[1;33m,\u001b[0m \u001b[0mname\u001b[0m\u001b[1;33m)\u001b[0m\u001b[1;33m\u001b[0m\u001b[1;33m\u001b[0m\u001b[0m\n\u001b[0m\u001b[0;32m   5275\u001b[0m \u001b[1;33m\u001b[0m\u001b[0m\n",
      "\u001b[1;31mAttributeError\u001b[0m: 'DataFrame' object has no attribute 'unique'",
      "\nDuring handling of the above exception, another exception occurred:\n",
      "\u001b[1;31mValueError\u001b[0m                                Traceback (most recent call last)",
      "\u001b[1;32m<ipython-input-17-44212dccefcd>\u001b[0m in \u001b[0;36m<module>\u001b[1;34m\u001b[0m\n\u001b[0;32m      1\u001b[0m \u001b[0msns\u001b[0m\u001b[1;33m.\u001b[0m\u001b[0mset\u001b[0m\u001b[1;33m(\u001b[0m\u001b[0mstyle\u001b[0m\u001b[1;33m=\u001b[0m\u001b[1;34m\"whitegrid\"\u001b[0m\u001b[1;33m)\u001b[0m\u001b[1;33m\u001b[0m\u001b[1;33m\u001b[0m\u001b[0m\n\u001b[1;32m----> 2\u001b[1;33m \u001b[0msns\u001b[0m\u001b[1;33m.\u001b[0m\u001b[0mboxplot\u001b[0m\u001b[1;33m(\u001b[0m\u001b[0mx\u001b[0m\u001b[1;33m=\u001b[0m\u001b[0mpmi_boxplot_incident\u001b[0m\u001b[1;33m.\u001b[0m\u001b[0mservice\u001b[0m\u001b[1;33m,\u001b[0m\u001b[0my\u001b[0m \u001b[1;33m=\u001b[0m \u001b[0mpmi_boxplot_incident\u001b[0m\u001b[1;33m.\u001b[0m\u001b[0mticket_solving_duration\u001b[0m\u001b[1;33m,\u001b[0m\u001b[0mdata\u001b[0m \u001b[1;33m=\u001b[0m \u001b[0mpmi_boxplot_incident\u001b[0m\u001b[1;33m)\u001b[0m\u001b[1;33m\u001b[0m\u001b[1;33m\u001b[0m\u001b[0m\n\u001b[0m",
      "\u001b[1;32m~\\AppData\\Roaming\\Python\\Python37\\site-packages\\seaborn\\categorical.py\u001b[0m in \u001b[0;36mboxplot\u001b[1;34m(x, y, hue, data, order, hue_order, orient, color, palette, saturation, width, dodge, fliersize, linewidth, whis, ax, **kwargs)\u001b[0m\n\u001b[0;32m   2233\u001b[0m     plotter = _BoxPlotter(x, y, hue, data, order, hue_order,\n\u001b[0;32m   2234\u001b[0m                           \u001b[0morient\u001b[0m\u001b[1;33m,\u001b[0m \u001b[0mcolor\u001b[0m\u001b[1;33m,\u001b[0m \u001b[0mpalette\u001b[0m\u001b[1;33m,\u001b[0m \u001b[0msaturation\u001b[0m\u001b[1;33m,\u001b[0m\u001b[1;33m\u001b[0m\u001b[1;33m\u001b[0m\u001b[0m\n\u001b[1;32m-> 2235\u001b[1;33m                           width, dodge, fliersize, linewidth)\n\u001b[0m\u001b[0;32m   2236\u001b[0m \u001b[1;33m\u001b[0m\u001b[0m\n\u001b[0;32m   2237\u001b[0m     \u001b[1;32mif\u001b[0m \u001b[0max\u001b[0m \u001b[1;32mis\u001b[0m \u001b[1;32mNone\u001b[0m\u001b[1;33m:\u001b[0m\u001b[1;33m\u001b[0m\u001b[1;33m\u001b[0m\u001b[0m\n",
      "\u001b[1;32m~\\AppData\\Roaming\\Python\\Python37\\site-packages\\seaborn\\categorical.py\u001b[0m in \u001b[0;36m__init__\u001b[1;34m(self, x, y, hue, data, order, hue_order, orient, color, palette, saturation, width, dodge, fliersize, linewidth)\u001b[0m\n\u001b[0;32m    434\u001b[0m                  width, dodge, fliersize, linewidth):\n\u001b[0;32m    435\u001b[0m \u001b[1;33m\u001b[0m\u001b[0m\n\u001b[1;32m--> 436\u001b[1;33m         \u001b[0mself\u001b[0m\u001b[1;33m.\u001b[0m\u001b[0mestablish_variables\u001b[0m\u001b[1;33m(\u001b[0m\u001b[0mx\u001b[0m\u001b[1;33m,\u001b[0m \u001b[0my\u001b[0m\u001b[1;33m,\u001b[0m \u001b[0mhue\u001b[0m\u001b[1;33m,\u001b[0m \u001b[0mdata\u001b[0m\u001b[1;33m,\u001b[0m \u001b[0morient\u001b[0m\u001b[1;33m,\u001b[0m \u001b[0morder\u001b[0m\u001b[1;33m,\u001b[0m \u001b[0mhue_order\u001b[0m\u001b[1;33m)\u001b[0m\u001b[1;33m\u001b[0m\u001b[1;33m\u001b[0m\u001b[0m\n\u001b[0m\u001b[0;32m    437\u001b[0m         \u001b[0mself\u001b[0m\u001b[1;33m.\u001b[0m\u001b[0mestablish_colors\u001b[0m\u001b[1;33m(\u001b[0m\u001b[0mcolor\u001b[0m\u001b[1;33m,\u001b[0m \u001b[0mpalette\u001b[0m\u001b[1;33m,\u001b[0m \u001b[0msaturation\u001b[0m\u001b[1;33m)\u001b[0m\u001b[1;33m\u001b[0m\u001b[1;33m\u001b[0m\u001b[0m\n\u001b[0;32m    438\u001b[0m \u001b[1;33m\u001b[0m\u001b[0m\n",
      "\u001b[1;32m~\\AppData\\Roaming\\Python\\Python37\\site-packages\\seaborn\\categorical.py\u001b[0m in \u001b[0;36mestablish_variables\u001b[1;34m(self, x, y, hue, data, orient, order, hue_order, units)\u001b[0m\n\u001b[0;32m    198\u001b[0m \u001b[1;33m\u001b[0m\u001b[0m\n\u001b[0;32m    199\u001b[0m                 \u001b[1;31m# Get the order on the categorical axis\u001b[0m\u001b[1;33m\u001b[0m\u001b[1;33m\u001b[0m\u001b[1;33m\u001b[0m\u001b[0m\n\u001b[1;32m--> 200\u001b[1;33m                 \u001b[0mgroup_names\u001b[0m \u001b[1;33m=\u001b[0m \u001b[0mcategorical_order\u001b[0m\u001b[1;33m(\u001b[0m\u001b[0mgroups\u001b[0m\u001b[1;33m,\u001b[0m \u001b[0morder\u001b[0m\u001b[1;33m)\u001b[0m\u001b[1;33m\u001b[0m\u001b[1;33m\u001b[0m\u001b[0m\n\u001b[0m\u001b[0;32m    201\u001b[0m \u001b[1;33m\u001b[0m\u001b[0m\n\u001b[0;32m    202\u001b[0m                 \u001b[1;31m# Group the numeric data\u001b[0m\u001b[1;33m\u001b[0m\u001b[1;33m\u001b[0m\u001b[1;33m\u001b[0m\u001b[0m\n",
      "\u001b[1;32m~\\AppData\\Roaming\\Python\\Python37\\site-packages\\seaborn\\utils.py\u001b[0m in \u001b[0;36mcategorical_order\u001b[1;34m(values, order)\u001b[0m\n\u001b[0;32m    547\u001b[0m                     \u001b[0morder\u001b[0m \u001b[1;33m=\u001b[0m \u001b[0mvalues\u001b[0m\u001b[1;33m.\u001b[0m\u001b[0munique\u001b[0m\u001b[1;33m(\u001b[0m\u001b[1;33m)\u001b[0m\u001b[1;33m\u001b[0m\u001b[1;33m\u001b[0m\u001b[0m\n\u001b[0;32m    548\u001b[0m                 \u001b[1;32mexcept\u001b[0m \u001b[0mAttributeError\u001b[0m\u001b[1;33m:\u001b[0m\u001b[1;33m\u001b[0m\u001b[1;33m\u001b[0m\u001b[0m\n\u001b[1;32m--> 549\u001b[1;33m                     \u001b[0morder\u001b[0m \u001b[1;33m=\u001b[0m \u001b[0mpd\u001b[0m\u001b[1;33m.\u001b[0m\u001b[0munique\u001b[0m\u001b[1;33m(\u001b[0m\u001b[0mvalues\u001b[0m\u001b[1;33m)\u001b[0m\u001b[1;33m\u001b[0m\u001b[1;33m\u001b[0m\u001b[0m\n\u001b[0m\u001b[0;32m    550\u001b[0m                 \u001b[1;32mtry\u001b[0m\u001b[1;33m:\u001b[0m\u001b[1;33m\u001b[0m\u001b[1;33m\u001b[0m\u001b[0m\n\u001b[0;32m    551\u001b[0m                     \u001b[0mnp\u001b[0m\u001b[1;33m.\u001b[0m\u001b[0masarray\u001b[0m\u001b[1;33m(\u001b[0m\u001b[0mvalues\u001b[0m\u001b[1;33m)\u001b[0m\u001b[1;33m.\u001b[0m\u001b[0mastype\u001b[0m\u001b[1;33m(\u001b[0m\u001b[0mnp\u001b[0m\u001b[1;33m.\u001b[0m\u001b[0mfloat\u001b[0m\u001b[1;33m)\u001b[0m\u001b[1;33m\u001b[0m\u001b[1;33m\u001b[0m\u001b[0m\n",
      "\u001b[1;32m~\\AppData\\Roaming\\Python\\Python37\\site-packages\\pandas\\core\\algorithms.py\u001b[0m in \u001b[0;36munique\u001b[1;34m(values)\u001b[0m\n\u001b[0;32m    380\u001b[0m \u001b[1;33m\u001b[0m\u001b[0m\n\u001b[0;32m    381\u001b[0m     \u001b[0mtable\u001b[0m \u001b[1;33m=\u001b[0m \u001b[0mhtable\u001b[0m\u001b[1;33m(\u001b[0m\u001b[0mlen\u001b[0m\u001b[1;33m(\u001b[0m\u001b[0mvalues\u001b[0m\u001b[1;33m)\u001b[0m\u001b[1;33m)\u001b[0m\u001b[1;33m\u001b[0m\u001b[1;33m\u001b[0m\u001b[0m\n\u001b[1;32m--> 382\u001b[1;33m     \u001b[0muniques\u001b[0m \u001b[1;33m=\u001b[0m \u001b[0mtable\u001b[0m\u001b[1;33m.\u001b[0m\u001b[0munique\u001b[0m\u001b[1;33m(\u001b[0m\u001b[0mvalues\u001b[0m\u001b[1;33m)\u001b[0m\u001b[1;33m\u001b[0m\u001b[1;33m\u001b[0m\u001b[0m\n\u001b[0m\u001b[0;32m    383\u001b[0m     \u001b[0muniques\u001b[0m \u001b[1;33m=\u001b[0m \u001b[0m_reconstruct_data\u001b[0m\u001b[1;33m(\u001b[0m\u001b[0muniques\u001b[0m\u001b[1;33m,\u001b[0m \u001b[0moriginal\u001b[0m\u001b[1;33m.\u001b[0m\u001b[0mdtype\u001b[0m\u001b[1;33m,\u001b[0m \u001b[0moriginal\u001b[0m\u001b[1;33m)\u001b[0m\u001b[1;33m\u001b[0m\u001b[1;33m\u001b[0m\u001b[0m\n\u001b[0;32m    384\u001b[0m     \u001b[1;32mreturn\u001b[0m \u001b[0muniques\u001b[0m\u001b[1;33m\u001b[0m\u001b[1;33m\u001b[0m\u001b[0m\n",
      "\u001b[1;32mpandas\\_libs\\hashtable_class_helper.pxi\u001b[0m in \u001b[0;36mpandas._libs.hashtable.Float64HashTable.unique\u001b[1;34m()\u001b[0m\n",
      "\u001b[1;31mValueError\u001b[0m: Buffer has wrong number of dimensions (expected 1, got 2)"
     ]
    }
   ],
   "source": [
    "sns.set(style=\"whitegrid\")\n",
    "sns.boxplot(x=pmi_boxplot_incident.service,y = pmi_boxplot_incident.ticket_solving_duration,data = pmi_boxplot_incident)"
   ]
  },
  {
   "cell_type": "code",
   "execution_count": null,
   "metadata": {},
   "outputs": [],
   "source": [
    "sns.set(style=\"whitegrid\")\n",
    "sns.boxplot(x=pmi_boxplot_rfi.service,y = pmi_boxplot_rfi.ticket_solving_duration,data = pmi_boxplot_rfi)"
   ]
  },
  {
   "cell_type": "code",
   "execution_count": null,
   "metadata": {},
   "outputs": [],
   "source": [
    "pmi_df.close_code.value_counts()"
   ]
  },
  {
   "cell_type": "code",
   "execution_count": null,
   "metadata": {},
   "outputs": [],
   "source": [
    "pmi_df.groupby(['ticketcreateyear','ticketcreatemonth','close_code'])[\"Number\"].count().to_frame(\"count\")"
   ]
  },
  {
   "cell_type": "code",
   "execution_count": null,
   "metadata": {},
   "outputs": [],
   "source": [
    "labels =pmi_df.category.value_counts().keys()\n",
    "sizes = pmi_df.category.value_counts()\n",
    "pmi_df.category.value_counts().plot(kind='pie',\n",
    "                                     autopct='%1.0f%%', pctdistance=1.1, labeldistance=1.2,figsize=(20,20)).legend( loc = 'best', labels=['%s, %1.0f' % (l, s) for l, s in zip(labels, sizes)])"
   ]
  },
  {
   "cell_type": "code",
   "execution_count": null,
   "metadata": {},
   "outputs": [],
   "source": [
    "pmi_df.category.value_counts()\n"
   ]
  },
  {
   "cell_type": "code",
   "execution_count": null,
   "metadata": {},
   "outputs": [],
   "source": [
    "sizes= pmi_df.category.value_counts()\n",
    "labels = pmi_df.category.value_counts().keys()\n",
    "pmi_df.groupby(['ticketcreatemonth','category' ])[\"Number\"].count().unstack().plot(y=['Request for Change','Incident','Request for Information', 'Complaint'],kind='bar', stacked=True,figsize=(10,20)).legend( loc = 'best', labels=['%s, %1.0f' % (l, s) for l, s in zip(labels, sizes)])"
   ]
  },
  {
   "cell_type": "code",
   "execution_count": null,
   "metadata": {},
   "outputs": [],
   "source": [
    "sizes= pmi_df.category.value_counts()\n",
    "labels = pmi_df.category.value_counts().keys()\n",
    "pmi_df.groupby(['ticketcreatehour','category' ])[\"Number\"].count().unstack().plot(y=['Request for Change','Incident','Request for Information', 'Complaint'],kind='bar', stacked=True,figsize=(20,20)).legend( loc = 'best', labels=['%s, %1.0f' % (l, s) for l, s in zip(labels, sizes)])"
   ]
  },
  {
   "cell_type": "code",
   "execution_count": null,
   "metadata": {},
   "outputs": [],
   "source": [
    "size= pmi_df.ticketcreatehour.value_counts()\n",
    "labels = pmi_df.ticketcreatehour.value_counts().keys()\n",
    "\n",
    "pmi_df.ticketcreatehour.value_counts().plot(kind='pie',\n",
    "                                     autopct='%1.0f%%', pctdistance=1.1, labeldistance=1.2,figsize=(20,20)).legend( loc = 'best', labels=['%s, %1.0f' % (l, s) for l, s in zip(labels, sizes)])"
   ]
  },
  {
   "cell_type": "code",
   "execution_count": null,
   "metadata": {},
   "outputs": [],
   "source": [
    "seriesObj1 = pmi_df.apply(lambda x: True if (x['ticketcreatehour'] >= 3 and x['ticketcreatehour']  < 12) else False , axis=1)\n",
    " \n",
    "# Count number of True in series\n",
    "numOfRows1 = len(seriesObj1[seriesObj1 == True].index)\n",
    " \n",
    "print('Ticket count created at 3 CET and less than 12 CET  : ', numOfRows1)\n",
    "#10286\n",
    "\n",
    "seriesObj2 = pmi_df.apply(lambda x: True if (x['ticketcreatehour'] >= 10 and x['ticketcreatehour']  < 19) else False , axis=1)\n",
    " \n",
    "# Count number of True in series\n",
    "numOfRows2 = len(seriesObj2[seriesObj2 == True].index)\n",
    " \n",
    "print('Ticket count created at 10 CET and less than 19 CET  : ', numOfRows2)\n",
    "\n",
    "seriesObj3 = pmi_df.apply(lambda x: True if (x['ticketcreatehour'] >= 19 and x['ticketcreatehour']  < 24) else False , axis=1)\n",
    " \n",
    "# Count number of True in series\n",
    "numOfRows3 = len(seriesObj3[seriesObj3 == True].index)\n",
    " \n",
    "print('Ticket count created at 19 CET and less than 24 CET  : : ', numOfRows3)\n",
    "\n",
    "seriesObj4 = pmi_df.apply(lambda x: True if (x['ticketcreatehour'] >= 1 and x['ticketcreatehour']  < 3) else False , axis=1)\n",
    " \n",
    "# Count number of True in series\n",
    "numOfRows4 = len(seriesObj4[seriesObj4 == True].index)\n",
    " \n",
    "print('Ticket count created at 24 CET and less than 3 CET  : : ', numOfRows4)\n",
    "\n",
    "sum1 = numOfRows1+ numOfRows2 + numOfRows3 + numOfRows4\n",
    "print(\"total \" , sum1)\n"
   ]
  },
  {
   "cell_type": "code",
   "execution_count": null,
   "metadata": {},
   "outputs": [],
   "source": [
    "df = pd.DataFrame({\n",
    "                   'radius': [numOfRows1, numOfRows2 , numOfRows3 + numOfRows4]},\n",
    "                   index=['3 CET - 12 CET ', '10 CET - 19 CET', '19 CET - 3 CET']).plot(kind='pie',autopct='%1.0f%%',y='radius', figsize=(15, 15)).legend( loc = 'best', labels=['%s, %1.0f' % (l, s) for l, s in zip(['3 CET - 12 CET ', '10 CET - 19 CET', '19 CET - 3 CET'], [numOfRows1, numOfRows2 , numOfRows3 + numOfRows4])])"
   ]
  },
  {
   "cell_type": "code",
   "execution_count": null,
   "metadata": {},
   "outputs": [],
   "source": [
    "import re\n",
    "\n",
    "def application_name(str,word_index):\n",
    "    return(str[:word_index].strip())\n",
    "\n",
    "pmi_df[\"service\"] = pmi_df.service.apply(lambda x : application_name(x,x.find('Application')))"
   ]
  },
  {
   "cell_type": "code",
   "execution_count": null,
   "metadata": {},
   "outputs": [],
   "source": [
    "pmi_df.columns"
   ]
  },
  {
   "cell_type": "code",
   "execution_count": null,
   "metadata": {},
   "outputs": [],
   "source": [
    "\n",
    "sizes = pmi_df.service.value_counts()\n",
    "labels = pmi_df.service.value_counts().keys()\n",
    "\n",
    "y_value=['iSMS','LES/MES','OMSP','Quantum Treasury','iSMS EZD','PLM','Flowingly','R2D2', 'OmniRIM','IQAR','COUPA']\n",
    "  \n",
    "             \n",
    "pmi_df.groupby(['ticketcreatemonth','service_new' ])[\"Number\"].count().unstack().plot(y=y_value,kind='line',\n",
    "                                                                                            stacked=False,figsize=(20,20)).legend( loc = 'best', labels=['%s, %1.0f' % (l, s) for l, s in zip(labels, sizes)])"
   ]
  },
  {
   "cell_type": "code",
   "execution_count": null,
   "metadata": {},
   "outputs": [],
   "source": [
    "labels =pmi_df.service.value_counts().keys()\n",
    "sizes = pmi_df.service.value_counts()\n",
    "\n",
    "\n",
    "pmi_df.service.value_counts().nlargest(20).plot(kind='pie',\n",
    "                                     autopct='%1.0f%%', pctdistance=1.1, labeldistance=1.2,figsize=(10,10)).legend( loc = 'right', labels=['%s, %1.0f' % (l, s) for l, s in zip(labels, sizes)])"
   ]
  },
  {
   "cell_type": "code",
   "execution_count": null,
   "metadata": {},
   "outputs": [],
   "source": [
    "pmi_df.service.value_counts().nlargest(20)"
   ]
  },
  {
   "cell_type": "code",
   "execution_count": null,
   "metadata": {},
   "outputs": [],
   "source": [
    "\n",
    "sizes = pmi_df.service.value_counts()\n",
    "labels = pmi_df.service.value_counts().keys()\n",
    "pmi_df.groupby(['ticketcreateweekday','service_new' ])[\"Number\"].count().unstack().plot(y=y_value,kind='line',\n",
    "                                                                                            stacked=False,figsize=(20,20)).legend( loc = 'best', labels=['%s, %1.0f' % (l, s) for l, s in zip(labels, sizes)])"
   ]
  },
  {
   "cell_type": "code",
   "execution_count": null,
   "metadata": {},
   "outputs": [],
   "source": [
    "\n",
    "sizes = pmi_df.service.value_counts()\n",
    "labels = pmi_df.service.value_counts().keys()\n",
    "pmi_df.groupby(['ticketcreatehour','service_new' ])[\"Number\"].count().unstack().plot(y=y_value,kind='line',\n",
    "                                                                                            stacked=False,figsize=(20,20)).legend( loc = 'best', labels=['%s, %1.0f' % (l, s) for l, s in zip(labels, sizes)])"
   ]
  },
  {
   "cell_type": "code",
   "execution_count": null,
   "metadata": {},
   "outputs": [],
   "source": [
    "\n",
    "sizes= pmi_df.components.value_counts()\n",
    "labels =  pmi_df.components.value_counts().keys() \n",
    "\n",
    "\n",
    "pmi_df.groupby(['ticketcreatemonth','components' ])[\"issueid\"].count().unstack().plot(y=['DTE', 'Sprinklr - Care', 'Sprinklr - Governance', 'eCommerce',\n",
    "       'SHIFT App', 'Sprinklr - Centralised Community Management',\n",
    "       'Global Domain Redirection', 'Customer Care', 'Sprinklr - Listening',\n",
    "       'Sprinklr - Reporting','SPICE' ,'Sprinklr - Publishing',\n",
    "       'Customer Care,SPICE', 'Customer Care,Sprinklr - Reporting',\n",
    "       'Sprinklr - Centralised Community Management,Sprinklr - INKOMPASS',\n",
    "       'Sprinklr - InsidePMI,Sprinklr - PMI Science,Sprinklr - UGC' ],kind='line', stacked=False,figsize=(20,20)).legend( loc = 'best', labels=['%s, %1.0f' % (l, s) for l, s in zip(labels, sizes)])"
   ]
  },
  {
   "cell_type": "code",
   "execution_count": null,
   "metadata": {},
   "outputs": [],
   "source": [
    "\n",
    "sizes= pmi_df.components.value_counts()\n",
    "labels =  pmi_df.components.value_counts().keys() \n",
    "\n",
    "\n",
    "pmi_df.groupby(['ticketcreateweekday','components' ])[\"issueid\"].count().unstack().plot(y=['DTE', 'Sprinklr - Care', 'Sprinklr - Governance', 'eCommerce',\n",
    "       'SHIFT App', 'Sprinklr - Centralised Community Management',\n",
    "       'Global Domain Redirection', 'Customer Care', 'Sprinklr - Listening',\n",
    "       'Sprinklr - Reporting','SPICE' ,'Sprinklr - Publishing',\n",
    "       'Customer Care,SPICE', 'Customer Care,Sprinklr - Reporting',\n",
    "       'Sprinklr - Centralised Community Management,Sprinklr - INKOMPASS',\n",
    "       'Sprinklr - InsidePMI,Sprinklr - PMI Science,Sprinklr - UGC' ],kind='line', stacked=False,figsize=(20,20)).legend( loc = 'best', labels=['%s, %1.0f' % (l, s) for l, s in zip(labels, sizes)])"
   ]
  },
  {
   "cell_type": "code",
   "execution_count": null,
   "metadata": {},
   "outputs": [],
   "source": [
    "\n",
    "sizes= pmi_df.components.value_counts()\n",
    "labels =  pmi_df.components.value_counts().keys() \n",
    "\n",
    "\n",
    "pmi_df.groupby(['ticketcreatehour','components' ])[\"issueid\"].count().unstack().plot(y=['DTE', 'Sprinklr - Care', 'Sprinklr - Governance', 'eCommerce',\n",
    "       'SHIFT App', 'Sprinklr - Centralised Community Management',\n",
    "       'Global Domain Redirection', 'Customer Care', 'Sprinklr - Listening',\n",
    "       'Sprinklr - Reporting','SPICE' ,'Sprinklr - Publishing',\n",
    "       'Customer Care,SPICE', 'Customer Care,Sprinklr - Reporting',\n",
    "       'Sprinklr - Centralised Community Management,Sprinklr - INKOMPASS',\n",
    "       'Sprinklr - InsidePMI,Sprinklr - PMI Science,Sprinklr - UGC' ],kind='line', stacked=False,figsize=(20,20)).legend( loc = 'best', labels=['%s, %1.0f' % (l, s) for l, s in zip(labels, sizes)])"
   ]
  },
  {
   "cell_type": "code",
   "execution_count": null,
   "metadata": {},
   "outputs": [],
   "source": [
    "pmi_df.groupby(['ticketcreateweekday','impactedproducts' ])[\"issueid\"].count().unstack().plot(kind='line', stacked=False,figsize=(20,20)).legend( loc = 'best', labels=['%s, %1.0f' % (l, s) for l, s in zip(sizes.keys(), sizes)])"
   ]
  },
  {
   "cell_type": "code",
   "execution_count": null,
   "metadata": {},
   "outputs": [],
   "source": [
    "\n",
    "sizes= pmi_df.components.value_counts()\n",
    "labels =  pmi_df.components.value_counts().keys() \n",
    "\n",
    "\n",
    "pmi_df.groupby(['ticketcreateweekday','components' ])[\"issueid\"].count().unstack().plot(y=['DTE', 'Sprinklr - Care', 'Sprinklr - Governance', 'eCommerce',\n",
    "       'SHIFT App', 'Sprinklr - Centralised Community Management',\n",
    "       'Global Domain Redirection', 'Customer Care', 'Sprinklr - Listening',\n",
    "       'Sprinklr - Reporting','SPICE' ,'Sprinklr - Publishing',\n",
    "       'Customer Care,SPICE', 'Customer Care,Sprinklr - Reporting',\n",
    "       'Sprinklr - Centralised Community Management,Sprinklr - INKOMPASS',\n",
    "       'Sprinklr - InsidePMI,Sprinklr - PMI Science,Sprinklr - UGC' ],kind='bar', stacked=False,figsize=(20,20)).legend( loc = 'best', labels=['%s, %1.0f' % (l, s) for l, s in zip(labels, sizes)])"
   ]
  },
  {
   "cell_type": "code",
   "execution_count": null,
   "metadata": {
    "scrolled": true
   },
   "outputs": [],
   "source": [
    "pmi_spriklr=pmi_df[pmi_df[\"impactedproducts\"] == 'Sprinklr']\n",
    "pmi_df[pmi_df[\"impactedproducts\"] == 'Sprinklr'].groupby(['ticketcreatemonth','components' ])[\"issueid\"].count().unstack().plot(kind='line', stacked=False,figsize=(30,30)).legend( loc = 'best', labels=['%s, %1.0f' % (l, s) for l, s in zip(pmi_spriklr.components.value_counts().keys(),pmi_spriklr.components.value_counts() )])"
   ]
  },
  {
   "cell_type": "code",
   "execution_count": null,
   "metadata": {},
   "outputs": [],
   "source": [
    "pmi_df_nojune = pmi_df[pmi_df.ticketcreatemonth != 6]\n",
    "\n",
    "label = pmi_df_nojune.priority.value_counts().keys()\n",
    "size = pmi_df_nojune.priority.value_counts()\n",
    "pmi_df_nojune.priority.value_counts().plot(kind='pie',autopct='%1.0f%%', pctdistance=1.1, labeldistance=1.2,figsize=(20,20)).legend( loc = 0, labels=['%s, %1.0f' % (l, s) for l, s in zip(label,size )])"
   ]
  },
  {
   "cell_type": "code",
   "execution_count": null,
   "metadata": {},
   "outputs": [],
   "source": [
    "pmi_df_DTE"
   ]
  },
  {
   "cell_type": "code",
   "execution_count": null,
   "metadata": {},
   "outputs": [],
   "source": [
    "pmi_df_Sprinklr= pmi_df[pmi_df[\"impactedproducts\"] == 'Digital Trade Engagement (DTE)']\n",
    "\n",
    "\n",
    "label = pmi_df_Sprinklr.priority.value_counts().keys()\n",
    "size = pmi_df_Sprinklr.priority.value_counts()\n",
    "pmi_df_Sprinklr.priority.value_counts().plot(kind='pie',autopct='%1.0f%%', pctdistance=1.1, labeldistance=1.2,figsize=(20,20)).legend( loc = 0, labels=['%s, %1.0f' % (l, s) for l, s in zip(label,size )])"
   ]
  },
  {
   "cell_type": "code",
   "execution_count": null,
   "metadata": {},
   "outputs": [],
   "source": [
    "pmi_df_Sprinklr= pmi_df[pmi_df[\"impactedproducts\"] == 'B2C eCommerce']\n",
    "\n",
    "label = pmi_df_Sprinklr.priority.value_counts().keys()\n",
    "size = pmi_df_Sprinklr.priority.value_counts()\n",
    "pmi_df_Sprinklr.priority.value_counts().plot(kind='pie',autopct='%1.0f%%', pctdistance=1.1, labeldistance=1.2,figsize=(20,20)).legend( loc = 0, labels=['%s, %1.0f' % (l, s) for l, s in zip(label,size )])"
   ]
  },
  {
   "cell_type": "code",
   "execution_count": null,
   "metadata": {},
   "outputs": [],
   "source": [
    "pmi_df_Sprinklr= pmi_df[pmi_df[\"impactedproducts\"] == 'Customer Care']\n",
    "\n",
    "label = pmi_df_Sprinklr.priority.value_counts().keys()\n",
    "size = pmi_df_Sprinklr.priority.value_counts()\n",
    "pmi_df_Sprinklr.priority.value_counts().plot(kind='pie',autopct='%1.0f%%', pctdistance=1.1, labeldistance=1.2,figsize=(20,20)).legend( loc = 0, labels=['%s, %1.0f' % (l, s) for l, s in zip(label,size )])"
   ]
  },
  {
   "cell_type": "code",
   "execution_count": null,
   "metadata": {},
   "outputs": [],
   "source": [
    "pmi_without_completed=pmi_df[pmi_df['status'] != 'Completed']\n",
    "pmi_without_completed_rejected=pmi_without_completed[pmi_without_completed['status'] != 'Rejected']\n",
    "\n",
    "labels = pmi_without_completed_rejected.status.value_counts().keys()\n",
    "sizes = pmi_without_completed_rejected.status.value_counts()\n",
    "\n",
    "pmi_without_completed_rejected.groupby(['status','ticketcreateyear'])[\"issueid\"].count().unstack().plot(kind='barh',stacked=True,figsize=(20,20)).legend( loc = 'best', labels=['%s, %1.1f' % (al, aws) for al, aws in zip(labels, sizes)])"
   ]
  },
  {
   "cell_type": "code",
   "execution_count": null,
   "metadata": {},
   "outputs": [],
   "source": [
    "\n",
    "sizes= pmi_df.components.value_counts()\n",
    "labels =  pmi_df.components.value_counts().keys() \n",
    "\n",
    "\n",
    "pmi_df.groupby(['ticketcreatemonth','components' ])[\"issueid\"].count().unstack().plot(y=['DTE', 'Sprinklr - Care', 'Sprinklr - Governance', 'eCommerce',\n",
    "       'SHIFT App', 'Sprinklr - Centralised Community Management',\n",
    "       'Global Domain Redirection', 'Customer Care', 'Sprinklr - Listening',\n",
    "       'Sprinklr - Reporting','SPICE' ,'Sprinklr - Publishing',\n",
    "       'Customer Care,SPICE', 'Customer Care,Sprinklr - Reporting',\n",
    "       'Sprinklr - Centralised Community Management,Sprinklr - INKOMPASS',\n",
    "       'Sprinklr - InsidePMI,Sprinklr - PMI Science,Sprinklr - UGC' ],kind='line', stacked=False,figsize=(20,20)).legend( loc = 'best', labels=['%s, %1.0f' % (l, s) for l, s in zip(labels, sizes)])"
   ]
  },
  {
   "cell_type": "code",
   "execution_count": null,
   "metadata": {},
   "outputs": [],
   "source": [
    "\n",
    "sizes= pmi_df.components.value_counts()\n",
    "labels =  pmi_df.components.value_counts().keys() \n",
    "\n",
    "\n",
    "pmi_df.groupby(['ticketcreateweekday','components' ])[\"issueid\"].count().unstack().plot(y=['DTE', 'Sprinklr - Care', 'Sprinklr - Governance', 'eCommerce',\n",
    "       'SHIFT App', 'Sprinklr - Centralised Community Management',\n",
    "       'Global Domain Redirection', 'Customer Care', 'Sprinklr - Listening',\n",
    "       'Sprinklr - Reporting','SPICE' ,'Sprinklr - Publishing',\n",
    "       'Customer Care,SPICE', 'Customer Care,Sprinklr - Reporting',\n",
    "       'Sprinklr - Centralised Community Management,Sprinklr - INKOMPASS',\n",
    "       'Sprinklr - InsidePMI,Sprinklr - PMI Science,Sprinklr - UGC' ],kind='line', stacked=False,figsize=(20,20)).legend( loc = 'best', labels=['%s, %1.0f' % (l, s) for l, s in zip(labels, sizes)])"
   ]
  },
  {
   "cell_type": "code",
   "execution_count": null,
   "metadata": {},
   "outputs": [],
   "source": [
    "\n",
    "sizes= pmi_df.components.value_counts()\n",
    "labels =  pmi_df.components.value_counts().keys() \n",
    "\n",
    "\n",
    "pmi_df.groupby(['ticketcreatehour','components' ])[\"issueid\"].count().unstack().plot(y=['DTE', 'Sprinklr - Care', 'Sprinklr - Governance', 'eCommerce',\n",
    "       'SHIFT App', 'Sprinklr - Centralised Community Management',\n",
    "       'Global Domain Redirection', 'Customer Care', 'Sprinklr - Listening',\n",
    "       'Sprinklr - Reporting','SPICE' ,'Sprinklr - Publishing',\n",
    "       'Customer Care,SPICE', 'Customer Care,Sprinklr - Reporting',\n",
    "       'Sprinklr - Centralised Community Management,Sprinklr - INKOMPASS',\n",
    "       'Sprinklr - InsidePMI,Sprinklr - PMI Science,Sprinklr - UGC' ],kind='line', stacked=False,figsize=(20,20)).legend( loc = 'best', labels=['%s, %1.0f' % (l, s) for l, s in zip(labels, sizes)])"
   ]
  },
  {
   "cell_type": "code",
   "execution_count": null,
   "metadata": {},
   "outputs": [],
   "source": [
    "pmi_df_highest.impactedproducts.value_counts()"
   ]
  },
  {
   "cell_type": "code",
   "execution_count": null,
   "metadata": {},
   "outputs": [],
   "source": [
    "\n",
    "\n",
    "pmi_df_highest = pmi_df[pmi_df.priority=='Highest']\n",
    "sizes= pmi_df_highest.impactedproducts.value_counts()\n",
    "labels =  pmi_df_highest.impactedproducts.value_counts().keys() \n",
    "\n",
    "pmi_df_highest.groupby(['ticketcreatemonth','priority' ,'impactedproducts'])[\"issueid\"].size().unstack().plot(y=['B2C eCommerce','Digital Trade Engagement (DTE)'],kind='bar', stacked=True,figsize=(20,20)).legend( loc = 'best', labels=['%s, %1.0f' % (l, s) for l, s in zip(labels, sizes)])"
   ]
  },
  {
   "cell_type": "code",
   "execution_count": null,
   "metadata": {},
   "outputs": [],
   "source": [
    "\n",
    "\n",
    "pmi_df_highest = pmi_df[pmi_df.priority=='Highest']\n",
    "sizes= pmi_df_highest.impactedproducts.value_counts()\n",
    "labels =  pmi_df_highest.impactedproducts.value_counts().keys() \n",
    "\n",
    "pmi_df_highest.groupby(['ticketcreateweekday','priority' ,'impactedproducts'])[\"issueid\"].size().unstack().plot(y=['B2C eCommerce','Digital Trade Engagement (DTE)'],kind='bar', stacked=True,figsize=(20,20)).legend( loc = 'best', labels=['%s, %1.0f' % (l, s) for l, s in zip(labels, sizes)])"
   ]
  },
  {
   "cell_type": "code",
   "execution_count": null,
   "metadata": {},
   "outputs": [],
   "source": [
    "\n",
    "\n",
    "pmi_df_highest = pmi_df[pmi_df.priority=='Highest']\n",
    "sizes= pmi_df_highest.impactedproducts.value_counts()\n",
    "labels =  pmi_df_highest.impactedproducts.value_counts().keys() \n",
    "\n",
    "pmi_df_highest.groupby(['ticketcreatehour','priority' ,'impactedproducts'])[\"issueid\"].size().unstack().plot(y=['B2C eCommerce','Digital Trade Engagement (DTE)','SHIFT App' , 'Unica','Drupal 1.5 iqos.com' , 'Consumer DB'],kind='bar', stacked=True,figsize=(20,20)).legend( loc = 'best', labels=['%s, %1.0f' % (l, s) for l, s in zip(labels, sizes)])"
   ]
  },
  {
   "cell_type": "code",
   "execution_count": null,
   "metadata": {},
   "outputs": [],
   "source": [
    "pmi_df_satisfacton= pmi_df[pmi_df['satisfaction'].apply(lambda x: x in ['5', '1', '2', '4', '3'])]\n",
    "pmi_df_satisfacton[\"satisfaction\"] = pd.to_numeric(pmi_df_satisfacton[\"satisfaction\"])"
   ]
  },
  {
   "cell_type": "code",
   "execution_count": null,
   "metadata": {},
   "outputs": [],
   "source": [
    "pmi_df_satisfacton.describe()"
   ]
  },
  {
   "cell_type": "code",
   "execution_count": null,
   "metadata": {},
   "outputs": [],
   "source": [
    "pmi_df.head()"
   ]
  },
  {
   "cell_type": "code",
   "execution_count": 18,
   "metadata": {},
   "outputs": [
    {
     "ename": "ModuleNotFoundError",
     "evalue": "No module named 'wordcloud'",
     "output_type": "error",
     "traceback": [
      "\u001b[1;31m---------------------------------------------------------------------------\u001b[0m",
      "\u001b[1;31mModuleNotFoundError\u001b[0m                       Traceback (most recent call last)",
      "\u001b[1;32m<ipython-input-18-2eae8fb428e8>\u001b[0m in \u001b[0;36m<module>\u001b[1;34m\u001b[0m\n\u001b[1;32m----> 1\u001b[1;33m \u001b[1;32mfrom\u001b[0m \u001b[0mwordcloud\u001b[0m \u001b[1;32mimport\u001b[0m \u001b[0mWordCloud\u001b[0m\u001b[1;33m,\u001b[0m \u001b[0mSTOPWORDS\u001b[0m\u001b[1;33m\u001b[0m\u001b[1;33m\u001b[0m\u001b[0m\n\u001b[0m\u001b[0;32m      2\u001b[0m \u001b[1;32mimport\u001b[0m \u001b[0mmatplotlib\u001b[0m\u001b[1;33m.\u001b[0m\u001b[0mpyplot\u001b[0m \u001b[1;32mas\u001b[0m \u001b[0mplt\u001b[0m\u001b[1;33m\u001b[0m\u001b[1;33m\u001b[0m\u001b[0m\n\u001b[0;32m      3\u001b[0m \u001b[1;32mimport\u001b[0m \u001b[0mpandas\u001b[0m \u001b[1;32mas\u001b[0m \u001b[0mpd\u001b[0m\u001b[1;33m\u001b[0m\u001b[1;33m\u001b[0m\u001b[0m\n\u001b[0;32m      4\u001b[0m \u001b[1;33m\u001b[0m\u001b[0m\n\u001b[0;32m      5\u001b[0m \u001b[1;33m\u001b[0m\u001b[0m\n",
      "\u001b[1;31mModuleNotFoundError\u001b[0m: No module named 'wordcloud'"
     ]
    }
   ],
   "source": [
    "from wordcloud import WordCloud, STOPWORDS \n",
    "import matplotlib.pyplot as plt \n",
    "import pandas as pd \n",
    "  \n",
    "  \n",
    "comment_words = '' \n",
    "stopwords = set(STOPWORDS) \n",
    "  \n",
    "# iterate through the csv file \n",
    "for val in pmi_df.description: \n",
    "      \n",
    "    # typecaste each val to string \n",
    "    val = str(val) \n",
    "  \n",
    "    # split the value \n",
    "    tokens = val.split() \n",
    "      \n",
    "    # Converts each token into lowercase \n",
    "    for i in range(len(tokens)): \n",
    "        tokens[i] = tokens[i].lower() \n",
    "      \n",
    "    comment_words += \" \".join(tokens)+\" \"\n",
    "  \n",
    "wordcloud = WordCloud(width = 800, height = 800, \n",
    "                background_color ='white', \n",
    "                stopwords = stopwords, \n",
    "                min_font_size = 10).generate(comment_words) \n",
    "  \n",
    "# plot the WordCloud image                        \n",
    "plt.figure(figsize = (8, 8), facecolor = None) \n",
    "plt.imshow(wordcloud) \n",
    "plt.axis(\"off\") \n",
    "plt.tight_layout(pad = 0) \n",
    "  \n",
    "plt.show() "
   ]
  },
  {
   "cell_type": "code",
   "execution_count": 19,
   "metadata": {},
   "outputs": [
    {
     "ename": "NameError",
     "evalue": "name 'servicepmi_df' is not defined",
     "output_type": "error",
     "traceback": [
      "\u001b[1;31m---------------------------------------------------------------------------\u001b[0m",
      "\u001b[1;31mNameError\u001b[0m                                 Traceback (most recent call last)",
      "\u001b[1;32m<ipython-input-19-2cd7ada4ee41>\u001b[0m in \u001b[0;36m<module>\u001b[1;34m\u001b[0m\n\u001b[1;32m----> 1\u001b[1;33m \u001b[0mservicepmi_df\u001b[0m\u001b[1;33m.\u001b[0m\u001b[0mservice_new\u001b[0m\u001b[1;33m.\u001b[0m\u001b[0mvalue_counts\u001b[0m\u001b[1;33m(\u001b[0m\u001b[1;33m)\u001b[0m\u001b[1;33m\u001b[0m\u001b[1;33m\u001b[0m\u001b[0m\n\u001b[0m",
      "\u001b[1;31mNameError\u001b[0m: name 'servicepmi_df' is not defined"
     ]
    }
   ],
   "source": [
    "servicepmi_df.service_new.value_counts()"
   ]
  },
  {
   "cell_type": "code",
   "execution_count": 20,
   "metadata": {},
   "outputs": [
    {
     "ename": "NameError",
     "evalue": "name 'STOPWORDS' is not defined",
     "output_type": "error",
     "traceback": [
      "\u001b[1;31m---------------------------------------------------------------------------\u001b[0m",
      "\u001b[1;31mNameError\u001b[0m                                 Traceback (most recent call last)",
      "\u001b[1;32m<ipython-input-20-99d2a91197c3>\u001b[0m in \u001b[0;36m<module>\u001b[1;34m\u001b[0m\n\u001b[0;32m      1\u001b[0m \u001b[0mcomment_words\u001b[0m \u001b[1;33m=\u001b[0m \u001b[1;34m''\u001b[0m\u001b[1;33m\u001b[0m\u001b[1;33m\u001b[0m\u001b[0m\n\u001b[1;32m----> 2\u001b[1;33m \u001b[0mstopwords\u001b[0m \u001b[1;33m=\u001b[0m \u001b[0mset\u001b[0m\u001b[1;33m(\u001b[0m\u001b[0mSTOPWORDS\u001b[0m\u001b[1;33m)\u001b[0m\u001b[1;33m\u001b[0m\u001b[1;33m\u001b[0m\u001b[0m\n\u001b[0m\u001b[0;32m      3\u001b[0m \u001b[1;33m\u001b[0m\u001b[0m\n\u001b[0;32m      4\u001b[0m \u001b[0mpmi_mess_les\u001b[0m\u001b[1;33m=\u001b[0m\u001b[0mpmi_df\u001b[0m\u001b[1;33m[\u001b[0m\u001b[0mpmi_df\u001b[0m\u001b[1;33m.\u001b[0m\u001b[0mservice_new\u001b[0m \u001b[1;33m==\u001b[0m \u001b[1;34m'R2D2'\u001b[0m\u001b[1;33m]\u001b[0m\u001b[1;33m\u001b[0m\u001b[1;33m\u001b[0m\u001b[0m\n\u001b[0;32m      5\u001b[0m \u001b[1;33m\u001b[0m\u001b[0m\n",
      "\u001b[1;31mNameError\u001b[0m: name 'STOPWORDS' is not defined"
     ]
    }
   ],
   "source": [
    "comment_words = '' \n",
    "stopwords = set(STOPWORDS) \n",
    "\n",
    "pmi_mess_les=pmi_df[pmi_df.service_new == 'R2D2']\n",
    "\n",
    "pmi_mess_les_info = pmi_mess_les[pmi_mess_les.category=='Request for Information']\n",
    "\n",
    "\n",
    "# iterate through the csv file \n",
    "for val in pmi_mess_les_info.description: \n",
    "      \n",
    "    # typecaste each val to string \n",
    "    val = str(val) \n",
    "  \n",
    "    # split the value \n",
    "    tokens = val.split() \n",
    "      \n",
    "    # Converts each token into lowercase \n",
    "    for i in range(len(tokens)): \n",
    "        tokens[i] = tokens[i].lower() \n",
    "      \n",
    "    comment_words += \" \".join(tokens)+\" \"\n",
    "  \n",
    "wordcloud = WordCloud(width = 800, height = 800, \n",
    "                background_color ='white', \n",
    "                stopwords = stopwords, \n",
    "                min_font_size = 10).generate(comment_words) \n",
    "  \n",
    "# plot the WordCloud image                        \n",
    "plt.figure(figsize = (8, 8), facecolor = None) \n",
    "plt.imshow(wordcloud) \n",
    "plt.axis(\"off\") \n",
    "plt.tight_layout(pad = 0) \n",
    "  \n",
    "plt.show() "
   ]
  },
  {
   "cell_type": "code",
   "execution_count": 21,
   "metadata": {},
   "outputs": [
    {
     "ename": "NameError",
     "evalue": "name 'STOPWORDS' is not defined",
     "output_type": "error",
     "traceback": [
      "\u001b[1;31m---------------------------------------------------------------------------\u001b[0m",
      "\u001b[1;31mNameError\u001b[0m                                 Traceback (most recent call last)",
      "\u001b[1;32m<ipython-input-21-1a062622795b>\u001b[0m in \u001b[0;36m<module>\u001b[1;34m\u001b[0m\n\u001b[0;32m      1\u001b[0m \u001b[0mcomment_words\u001b[0m \u001b[1;33m=\u001b[0m \u001b[1;34m''\u001b[0m\u001b[1;33m\u001b[0m\u001b[1;33m\u001b[0m\u001b[0m\n\u001b[1;32m----> 2\u001b[1;33m \u001b[0mstopwords\u001b[0m \u001b[1;33m=\u001b[0m \u001b[0mset\u001b[0m\u001b[1;33m(\u001b[0m\u001b[0mSTOPWORDS\u001b[0m\u001b[1;33m)\u001b[0m\u001b[1;33m\u001b[0m\u001b[1;33m\u001b[0m\u001b[0m\n\u001b[0m\u001b[0;32m      3\u001b[0m \u001b[1;33m\u001b[0m\u001b[0m\n\u001b[0;32m      4\u001b[0m \u001b[0mpmi_mess_les\u001b[0m\u001b[1;33m=\u001b[0m\u001b[0mpmi_df\u001b[0m\u001b[1;33m[\u001b[0m\u001b[0mpmi_df\u001b[0m\u001b[1;33m.\u001b[0m\u001b[0mservice_new\u001b[0m \u001b[1;33m==\u001b[0m \u001b[1;34m'R2D2'\u001b[0m\u001b[1;33m]\u001b[0m\u001b[1;33m\u001b[0m\u001b[1;33m\u001b[0m\u001b[0m\n\u001b[0;32m      5\u001b[0m \u001b[1;33m\u001b[0m\u001b[0m\n",
      "\u001b[1;31mNameError\u001b[0m: name 'STOPWORDS' is not defined"
     ]
    }
   ],
   "source": [
    "comment_words = '' \n",
    "stopwords = set(STOPWORDS) \n",
    "\n",
    "pmi_mess_les=pmi_df[pmi_df.service_new == 'R2D2']\n",
    "\n",
    "pmi_mess_les_info = pmi_mess_les[pmi_mess_les.category=='Incident']\n",
    "\n",
    "\n",
    "# iterate through the csv file \n",
    "for val in pmi_mess_les_info.description: \n",
    "      \n",
    "    # typecaste each val to string \n",
    "    val = str(val) \n",
    "  \n",
    "    # split the value \n",
    "    tokens = val.split() \n",
    "      \n",
    "    # Converts each token into lowercase \n",
    "    for i in range(len(tokens)): \n",
    "        tokens[i] = tokens[i].lower() \n",
    "      \n",
    "    comment_words += \" \".join(tokens)+\" \"\n",
    "  \n",
    "wordcloud = WordCloud(width = 800, height = 800, \n",
    "                background_color ='white', \n",
    "                stopwords = stopwords, \n",
    "                min_font_size = 10).generate(comment_words) \n",
    "  \n",
    "# plot the WordCloud image                        \n",
    "plt.figure(figsize = (8, 8), facecolor = None) \n",
    "plt.imshow(wordcloud) \n",
    "plt.axis(\"off\") \n",
    "plt.tight_layout(pad = 0) \n",
    "  \n",
    "plt.show() "
   ]
  },
  {
   "cell_type": "code",
   "execution_count": 22,
   "metadata": {},
   "outputs": [
    {
     "ename": "NameError",
     "evalue": "name 'STOPWORDS' is not defined",
     "output_type": "error",
     "traceback": [
      "\u001b[1;31m---------------------------------------------------------------------------\u001b[0m",
      "\u001b[1;31mNameError\u001b[0m                                 Traceback (most recent call last)",
      "\u001b[1;32m<ipython-input-22-d57a2df95e83>\u001b[0m in \u001b[0;36m<module>\u001b[1;34m\u001b[0m\n\u001b[0;32m      1\u001b[0m \u001b[0mcomment_words\u001b[0m \u001b[1;33m=\u001b[0m \u001b[1;34m''\u001b[0m\u001b[1;33m\u001b[0m\u001b[1;33m\u001b[0m\u001b[0m\n\u001b[1;32m----> 2\u001b[1;33m \u001b[0mstopwords\u001b[0m \u001b[1;33m=\u001b[0m \u001b[0mset\u001b[0m\u001b[1;33m(\u001b[0m\u001b[0mSTOPWORDS\u001b[0m\u001b[1;33m)\u001b[0m\u001b[1;33m\u001b[0m\u001b[1;33m\u001b[0m\u001b[0m\n\u001b[0m\u001b[0;32m      3\u001b[0m \u001b[1;33m\u001b[0m\u001b[0m\n\u001b[0;32m      4\u001b[0m \u001b[0mpmi_mess_les\u001b[0m\u001b[1;33m=\u001b[0m\u001b[0mpmi_df\u001b[0m\u001b[1;33m[\u001b[0m\u001b[0mpmi_df\u001b[0m\u001b[1;33m.\u001b[0m\u001b[0mservice_new\u001b[0m \u001b[1;33m==\u001b[0m \u001b[1;34m'R2D2'\u001b[0m\u001b[1;33m]\u001b[0m\u001b[1;33m\u001b[0m\u001b[1;33m\u001b[0m\u001b[0m\n\u001b[0;32m      5\u001b[0m \u001b[1;33m\u001b[0m\u001b[0m\n",
      "\u001b[1;31mNameError\u001b[0m: name 'STOPWORDS' is not defined"
     ]
    }
   ],
   "source": [
    "comment_words = '' \n",
    "stopwords = set(STOPWORDS) \n",
    "\n",
    "pmi_mess_les=pmi_df[pmi_df.service_new == 'R2D2']\n",
    "\n",
    "pmi_mess_les_info = pmi_mess_les[pmi_mess_les.category=='Request for Change']\n",
    "\n",
    "\n",
    "# iterate through the csv file \n",
    "for val in pmi_mess_les_info.description: \n",
    "      \n",
    "    # typecaste each val to string \n",
    "    val = str(val) \n",
    "  \n",
    "    # split the value \n",
    "    tokens = val.split() \n",
    "      \n",
    "    # Converts each token into lowercase \n",
    "    for i in range(len(tokens)): \n",
    "        tokens[i] = tokens[i].lower() \n",
    "      \n",
    "    comment_words += \" \".join(tokens)+\" \"\n",
    "  \n",
    "wordcloud = WordCloud(width = 800, height = 800, \n",
    "                background_color ='white', \n",
    "                stopwords = stopwords, \n",
    "                min_font_size = 10).generate(comment_words) \n",
    "  \n",
    "# plot the WordCloud image                        \n",
    "plt.figure(figsize = (8, 8), facecolor = None) \n",
    "plt.imshow(wordcloud) \n",
    "plt.axis(\"off\") \n",
    "plt.tight_layout(pad = 0) \n",
    "  \n",
    "plt.show() "
   ]
  },
  {
   "cell_type": "code",
   "execution_count": 27,
   "metadata": {},
   "outputs": [
    {
     "name": "stderr",
     "output_type": "stream",
     "text": [
      "[nltk_data] Downloading package punkt to\n",
      "[nltk_data]     C:\\Users\\nishit_dhakar\\AppData\\Roaming\\nltk_data...\n",
      "[nltk_data]   Package punkt is already up-to-date!\n"
     ]
    },
    {
     "ename": "TypeError",
     "evalue": "can only concatenate str (not \"float\") to str",
     "output_type": "error",
     "traceback": [
      "\u001b[1;31m---------------------------------------------------------------------------\u001b[0m",
      "\u001b[1;31mTypeError\u001b[0m                                 Traceback (most recent call last)",
      "\u001b[1;32m<ipython-input-27-ab7616cad239>\u001b[0m in \u001b[0;36m<module>\u001b[1;34m\u001b[0m\n\u001b[0;32m      8\u001b[0m \u001b[0mfinal_string\u001b[0m \u001b[1;33m=\u001b[0m \u001b[1;34m\"\"\u001b[0m\u001b[1;33m;\u001b[0m\u001b[1;33m\u001b[0m\u001b[1;33m\u001b[0m\u001b[0m\n\u001b[0;32m      9\u001b[0m \u001b[1;32mfor\u001b[0m \u001b[0mvalue\u001b[0m \u001b[1;32min\u001b[0m \u001b[0mr1\u001b[0m\u001b[1;33m:\u001b[0m\u001b[1;33m\u001b[0m\u001b[1;33m\u001b[0m\u001b[0m\n\u001b[1;32m---> 10\u001b[1;33m     \u001b[0mfinal_string\u001b[0m \u001b[1;33m=\u001b[0m \u001b[0mfinal_string\u001b[0m  \u001b[1;33m+\u001b[0m \u001b[0mvalue\u001b[0m \u001b[1;33m+\u001b[0m \u001b[1;34m\" \"\u001b[0m\u001b[1;33m;\u001b[0m\u001b[1;33m\u001b[0m\u001b[1;33m\u001b[0m\u001b[0m\n\u001b[0m",
      "\u001b[1;31mTypeError\u001b[0m: can only concatenate str (not \"float\") to str"
     ]
    }
   ],
   "source": [
    "from collections import Counter\n",
    "import nltk\n",
    "nltk.download('punkt')\n",
    "\n",
    "#r1 = pmi_df.short_description.values\n",
    "r1 = pmi_df.close_notes.values\n",
    "\n",
    "final_string = \"\";\n",
    "for value in r1:\n",
    "    final_string = final_string  + value + \" \";"
   ]
  },
  {
   "cell_type": "code",
   "execution_count": 28,
   "metadata": {},
   "outputs": [],
   "source": [
    "stopwords = [' ','the','a', 'about', 'above', 'across', 'after', 'afterwards','again', 'against', 'all', 'almost', 'alone', 'along','already', 'also', 'although', 'always', 'am', 'among']\n",
    "stopwords += ['amongst', 'amoungst', 'amount', 'an', 'and', 'another','any', 'anyhow', 'anyone', 'anything', 'anyway', 'anywhere']\n",
    "stopwords += ['in','.', 'to', 'the', 'of', 'on', 'for','any', 'with', 'is', 'no',':', '[', ']']\n",
    "stopwords += ['why','what', 'did', 'use', 'no', 'has', 'yes','who', 'where', 'goes', 'as','an', 'how']\n",
    "stopwords += ['kindly','.', 'all', 'time', 'feel', 'thank', '\"','>', '<', 'from', '&','let', '(', ')','|']\n",
    "stopwords += ['are', 'around', 'as', 'at', 'back', 'be', 'became','because', 'become', 'becomes', 'becoming', 'been']\n",
    "stopwords += ['before', 'beforehand', 'behind', 'being', 'below','beside', 'besides', 'between', 'beyond', 'bill', 'both']\n",
    "stopwords += ['bottom', 'but', 'by', 'call', 'can', 'cannot', 'cant','co', 'computer', 'con', 'could', 'couldnt', 'cry', 'de']\n",
    "stopwords += ['describe', 'detail', 'did', 'do', 'done', 'down', 'due','during', 'each', 'eg', 'eight', 'either', 'eleven', 'else']\n",
    "stopwords += ['elsewhere', 'empty', 'enough', 'etc', 'even', 'ever','every', 'everyone', 'everything', 'everywhere', 'except']\n",
    "stopwords += ['few', 'fifteen', 'fifty', 'fill', 'find', 'fire', 'first','five', 'for', 'former', 'formerly', 'forty', 'found']\n",
    "stopwords += ['four', 'from', 'front', 'full', 'further', 'get', 'give','go', 'had', 'has', 'hasnt', 'have', 'he', 'hence', 'her']\n",
    "stopwords += ['here', 'hereafter', 'hereby', 'herein', 'hereupon', 'hers','herself', 'him', 'himself', 'his', 'how', 'however']\n",
    "stopwords += ['hundred', 'i', 'ie', 'if', 'in', 'inc', 'indeed','interest', 'into', 'is', 'it', 'its', 'itself', 'keep']\n",
    "stopwords += ['last', 'latter', 'latterly', 'least', 'less', 'ltd', 'made','many', 'may', 'me', 'meanwhile', 'might', 'mill', 'mine']\n",
    "stopwords += ['more', 'moreover', 'most', 'mostly', 'move', 'much','must', 'my', 'myself', 'name', 'namely', 'neither', 'never']\n",
    "stopwords += ['nevertheless', 'next', 'nine', 'no', 'nobody', 'none','noone', 'nor', 'not', 'nothing', 'now', 'nowhere', 'of']\n",
    "stopwords += ['off', 'often', 'on','once', 'one', 'only', 'onto', 'or','other', 'others', 'otherwise', 'our', 'ours', 'ourselves']\n",
    "stopwords += ['out', 'over', 'own', 'part', 'per', 'perhaps', 'please','put', 'rather', 're', 's', 'same', 'see', 'seem', 'seemed']\n",
    "stopwords += ['seeming', 'seems', 'serious', 'several', 'she', 'should','show', 'side', 'since', 'sincere', 'six', 'sixty', 'so']\n",
    "stopwords += ['some', 'somehow', 'someone', 'something', 'sometime','sometimes', 'somewhere', 'still', 'such', 'system', 'take']\n",
    "stopwords += ['ten', 'than', 'that', 'the', 'their', 'them', 'themselves','then', 'thence', 'there', 'thereafter', 'thereby']\n",
    "stopwords += ['therefore', 'therein', 'thereupon', 'these', 'they','thick', 'thin', 'third', 'this', 'those', 'though', 'three']\n",
    "stopwords += ['three', 'through', 'throughout', 'thru', 'thus', 'to','together', 'too', 'top', 'toward', 'towards', 'twelve']\n",
    "stopwords += ['twenty', 'two', 'un', 'under', 'until', 'up', 'upon','us', 'very', 'via', 'was', 'we', 'well', 'were', 'what']\n",
    "stopwords += ['whatever', 'when', 'whence', 'whenever', 'where','whereafter', 'whereas', 'whereby', 'wherein', 'whereupon']\n",
    "stopwords += ['wherever', 'whether', 'which', 'while', 'whither', 'who','whoever', 'whole', 'whom', 'whose', 'why', 'will', 'with']\n",
    "stopwords += ['within', 'without', 'would', 'yet', 'you', 'your','yours', 'yourself', 'yourselves']\n",
    "\n"
   ]
  },
  {
   "cell_type": "code",
   "execution_count": 29,
   "metadata": {
    "scrolled": false
   },
   "outputs": [],
   "source": [
    "# Given a list of words, remove any that are\n",
    "# in a list of stop words.\n",
    "\n",
    "def removeStopwords(wordlist, stopwords):\n",
    "    #wordlist((k.lower(), v) for k,v in {'My Key':'My Value'}.items())\n",
    "    newList = list(map(lambda x: x.lower(), wordlist))\n",
    "    return [w for w in newList if w not in stopwords]"
   ]
  },
  {
   "cell_type": "code",
   "execution_count": 30,
   "metadata": {},
   "outputs": [],
   "source": [
    "from nltk.tokenize import word_tokenize\n",
    "wordlist = word_tokenize(final_string)\n",
    "refwordlist= removeStopwords(wordlist, stopwords)\n",
    "#finalList = refwordlist.sort(reverse=True)\n",
    "#finalList= sortFreqDict(refwordlist)\n"
   ]
  },
  {
   "cell_type": "code",
   "execution_count": 31,
   "metadata": {},
   "outputs": [],
   "source": [
    "result =Counter(\" \".join(refwordlist).split(\" \")).items()\n",
    "\n",
    "import csv\n",
    "with open('test.csv', 'w', encoding='utf-8') as f:\n",
    "    for k,v in result:\n",
    "        f.write(\"%s,%s\\n\"%(k,v))"
   ]
  },
  {
   "cell_type": "code",
   "execution_count": null,
   "metadata": {},
   "outputs": [],
   "source": []
  }
 ],
 "metadata": {
  "kernelspec": {
   "display_name": "Python 3",
   "language": "python",
   "name": "python3"
  },
  "language_info": {
   "codemirror_mode": {
    "name": "ipython",
    "version": 3
   },
   "file_extension": ".py",
   "mimetype": "text/x-python",
   "name": "python",
   "nbconvert_exporter": "python",
   "pygments_lexer": "ipython3",
   "version": "3.7.6"
  }
 },
 "nbformat": 4,
 "nbformat_minor": 2
}
